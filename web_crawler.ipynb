{
 "cells": [
  {
   "cell_type": "code",
   "execution_count": 3,
   "id": "8354afe1-de72-4a74-967c-2cdbe03a6e1e",
   "metadata": {},
   "outputs": [],
   "source": [
    "import bs4\n",
    "from bs4 import BeautifulSoup as soup\n",
    "from urllib.request import urlopen as request\n",
    "import csv\n",
    "import pandas as pd\n",
    "import re\n",
    "from re import findall\n",
    "import numpy as np"
   ]
  },
  {
   "cell_type": "code",
   "execution_count": 4,
   "id": "6a2ea9d2-59c9-489e-bbe2-92c9f3acf2ff",
   "metadata": {},
   "outputs": [],
   "source": [
    "url = 'https://www.newegg.com/p/pl?d=graphics+cards'\n",
    "\n",
    "client = request(url)\n",
    "page_html = client.read()\n",
    "client.close()\n",
    "\n",
    "#turns the HTML code from our URL into a parsed document\n",
    "page_soup = soup(page_html, 'html.parser') \n",
    "\n",
    "#to retrieve the HTML code directly associated with the graphics cards that we want to scrape.\n",
    "cells = page_soup.find_all(\"div\", attrs={\"class\": \"item-cell\"}) #"
   ]
  },
  {
   "cell_type": "code",
   "execution_count": 119,
   "id": "f12af88d-dc74-4011-a29e-6df7c644d201",
   "metadata": {},
   "outputs": [],
   "source": [
    "tmp = 'https://www.newegg.com/p/pl?d=graphics+cards&page=1'"
   ]
  },
  {
   "cell_type": "code",
   "execution_count": 120,
   "id": "0f6dd5ce-3481-4bfc-9c1e-e2d9c158f12d",
   "metadata": {},
   "outputs": [
    {
     "name": "stdout",
     "output_type": "stream",
     "text": [
      "https://www.newegg.com/p/pl?d=graphics+cards&page=0\n",
      "https://www.newegg.com/p/pl?d=graphics+cards&page=1\n",
      "https://www.newegg.com/p/pl?d=graphics+cards&page=2\n",
      "https://www.newegg.com/p/pl?d=graphics+cards&page=3\n",
      "https://www.newegg.com/p/pl?d=graphics+cards&page=4\n",
      "https://www.newegg.com/p/pl?d=graphics+cards&page=5\n",
      "https://www.newegg.com/p/pl?d=graphics+cards&page=6\n",
      "https://www.newegg.com/p/pl?d=graphics+cards&page=7\n",
      "https://www.newegg.com/p/pl?d=graphics+cards&page=8\n",
      "https://www.newegg.com/p/pl?d=graphics+cards&page=9\n"
     ]
    }
   ],
   "source": [
    "tmp = 'https://www.newegg.com/p/pl?d=graphics+cards&page='\n",
    "for i in range(10):\n",
    "    new = tmp+str(i)\n",
    "    print(new)"
   ]
  },
  {
   "cell_type": "code",
   "execution_count": 121,
   "id": "25981d2e-88b0-4172-960b-79f8867a7a62",
   "metadata": {},
   "outputs": [],
   "source": [
    "\"\"\"Set up the pages to scrape\"\"\"\n",
    "url_root = 'https://www.newegg.com/p/pl?d=graphics+cards&page='\n",
    "urls = []\n",
    "for i in range(10):\n",
    "    urls.append(url_root + str(i))"
   ]
  },
  {
   "cell_type": "code",
   "execution_count": 125,
   "id": "2696b9ba-7cb4-43e1-9229-4db6f129a989",
   "metadata": {},
   "outputs": [],
   "source": [
    "\"\"\"Set up the parser\"\"\"\n",
    "cells_list = []\n",
    "for url in urls:\n",
    "    client = request(url)\n",
    "    page_html = client.read()\n",
    "    client.close()\n",
    "    \n",
    "    page_soup = soup(page_html, 'html.parser')\n",
    "    \n",
    "    cells = page_soup.find_all(\"div\", attrs={\"class\": \"item-cell\"})\n",
    "    \n",
    "    cells_list.append(cells)"
   ]
  },
  {
   "cell_type": "code",
   "execution_count": 128,
   "id": "54c62a1d-1b76-4d97-a692-62d809b94b4d",
   "metadata": {},
   "outputs": [
    {
     "name": "stdout",
     "output_type": "stream",
     "text": [
      "Error that occurred: TypeError\n",
      "Error message: 'NoneType' object is not subscriptable\n",
      "Cell where error occurred: <div class=\"item-cell\" id=\"item_cell_9SIB601HAJ4518_19_1\"><div class=\"item-container\"><a class=\"item-img\" href=\"https://www.newegg.com/p/27N-0074-00008?Item=9SIB601HAJ4518&amp;Description=graphics cards&amp;cm_re=graphics_cards-_-9SIB601HAJ4518-_-Product&amp;cm_sp=SP-_-924679-_-0-_-2-_-9SIB601HAJ4518-_-graphics cards-_-card|graphic-_-19\"><img alt=\"Graphics HD7450 2GB GDDR3 64 Bit PCIE 2.0 HDMI-Compatible+VGA+DVI Interface Video Card with Cooling Fan\" src=\"https://c1.neweggimages.com/ProductImageCompressAll300/B601S220318UgT5Y.jpg\" title=\"Graphics HD7450 2GB GDDR3 64 Bit PCIE 2.0 HDMI-Compatible+VGA+DVI Interface Video Card with Cooling Fan\"/><div class=\"btn btn-large btn-quickview\">Quick View</div><div class=\"item-quick-action-container\"><button class=\"quick-action\"><i class=\"fa fa-heart-outline\"></i></button></div></a><div class=\"item-sponsored-box\"><div class=\"item-sponsored menu-box\"><span><i class=\"fas fa-info-circle-light\"></i> Sponsored</span><div class=\"menu-box-menu\" style=\"display:none\"><div class=\"menu-box-menu-arrow\"></div><div class=\"article\"><p>You’re seeing this ad based on the product’s relevance to your search query. If you are a seller and want to participate in this program click here to <a class=\"link-blue\" href=\"https://www.newegg.com/sellers/index.php/marketing-sponsored-product-ads/\">learn more</a>.</p></div></div></div></div><div class=\"item-info\"><div class=\"item-branding\"><a class=\"item-rating\" href=\"https://www.newegg.com/p/27N-0074-00008?IsFeedbackTab=true&amp;cm_sp=SP-_-924679-_-0-_-2-_-9SIB601HAJ4518-_-graphics cards-_-card|graphic-_-19#scrollFullInfo\" title=\"Rating + 4.5\"><i aria-label=\"rated 4.5 out of 5\" class=\"rating rating-4-5\"></i><span class=\"item-rating-num\">(2)</span></a></div><a class=\"item-title\" href=\"https://www.newegg.com/p/27N-0074-00008?Item=9SIB601HAJ4518&amp;Description=graphics cards&amp;cm_re=graphics_cards-_-9SIB601HAJ4518-_-Product&amp;cm_sp=SP-_-924679-_-0-_-2-_-9SIB601HAJ4518-_-graphics cards-_-card|graphic-_-19\" title=\"View Details\">Graphics HD7450 2GB GDDR3 64 Bit PCIE 2.0 HDMI-Compatible+VGA+DVI Interface Video Card with Cooling Fan</a><p class=\"item-promo\"><i class=\"item-promo-icon\"></i>Limited time offer, ends 06/22</p><ul class=\"item-features\"><li><strong>Core Clock:</strong> 625 MHz</li><li><strong>DisplayPort:</strong> 1 x DisplayPort</li><li><strong>DVI:</strong> 1 x DVI</li><li><strong>HDMI:</strong> 1 x HDMI</li><li><strong>Model #: </strong>NEWHD7450 2GB</li><li><strong>Item #: </strong>9SIB601HAJ4518</li><li><strong>Return Policy: </strong><a href=\"https://www.newegg.com/Seller-Store/Mannajue?initialTab=returnPolicy\" target=\"_blank\" title=\"View Return Policy(new window)\">View Return Policy</a></li></ul></div><div class=\"item-action\"><ul class=\"price\"><li class=\"price-was\"></li><li class=\"price-map\"> </li><li class=\"price-current\"><span class=\"price-current-label\"></span>$<strong>55</strong><sup>.99</sup> <span class=\"price-current-range\"><abbr title=\"to\">–</abbr></span></li><li class=\"price-save\"><span class=\"price-save-endtime\"><strong>Sale Ends in 12 Hours</strong> - </span></li><li class=\"price-ship\">Free Shipping</li></ul><div class=\"item-sellers top-seller\"><span class=\"menu-box\"><div class=\"menu-box-trigger\"><div class=\"d2c-section-title\"><img alt=\"Top Rated Seller\" src=\"https://c1.neweggimages.com/WebResource/Themes/Nest/icons/star_seller@2x.png\" width=\"16\"/><span> Mannajue Store</span><a class=\"link-more\" href=\"https://www.newegg.com/Seller-Store/Mannajue?cm_sp=seller-store-_-from-plp-product-cell\" target=\"_blank\" title=\"Visit Store\"><span>Visit Store</span></a></div></div><div class=\"menu-box-menu\"><div class=\"d2c-section\"><div class=\"d2c-section-desc\"><img alt=\"Top Rated Seller\" src=\"https://c1.neweggimages.com/WebResource/Themes/Nest/icons/star_seller@2x.png\" width=\"16\"/> <!-- -->Top Rated Seller</div></div></div></span></div><div class=\"item-operate\"><div class=\"item-button-area\"><button class=\"btn btn-primary btn-mini\" title=\"Add Graphics HD7450 2GB GDDR3 64 Bit PCIE 2.0 HDMI-Compatible+VGA+DVI Interface Video Card with Cooling Fan to cart\">Add to cart <i class=\"fas fa-caret-right\"></i></button></div><div class=\"item-compare-box\"><label class=\"form-checkbox\"><input autocomplete=\"off\" type=\"checkbox\"/><span class=\"form-checkbox-title\">Compare</span></label></div></div></div><div class=\"item-stock\" id=\"stock_9SIB601HAJ4518\"></div></div></div>\n",
      "Error that occurred: IndexError\n",
      "Error message: list index out of range\n",
      "Cell where error occurred: <div class=\"item-cell\"><div class=\"item-container\"><a class=\"item-img combo-img-0\" href=\"https://www.newegg.com/Product/ComboDealDetails?ItemList=Combo.4503356\"><img alt=\"ASUS TUF Gaming GeForce RTX 3070 V2 OC Edition 8GB GDDR6 PCI Express 4.0 Video Card TUF-RTX3070-O8G-V2-GAMING (LHR) and Domino's $25 Gift Card (Email Delivery)\" class=\"\" src=\"https://c1.neweggimages.com/ProductImageCompressAll300/combo4503356.jpg\" title=\"ASUS TUF Gaming GeForce RTX 3070 V2 OC Edition 8GB GDDR6 PCI Express 4.0 Video Card TUF-RTX3070-O8G-V2-GAMING (LHR) and Domino's $25 Gift Card (Email Delivery)\"/><div class=\"item-quick-action-container\"><button class=\"quick-action\"><i class=\"fa fa-heart-outline\"></i></button></div></a><div class=\"item-info\"><a class=\"item-title\" href=\"https://www.newegg.com/Product/ComboDealDetails?ItemList=Combo.4503356\" title=\"View Details\">ASUS TUF Gaming GeForce RTX 3070 V2 OC Edition 8GB GDDR6 PCI Express 4.0 Video Card TUF-RTX3070-O8G-V2-GAMING (LHR) and Domino's $25 Gift Card (Email Delivery)</a></div><div class=\"item-action\"><ul class=\"price\"><li class=\"price-was\"><span class=\"price-was-data\">$684.99</span></li><li class=\"price-map\"> </li><li class=\"price-current\"><span class=\"price-current-label\"></span>$<strong>659</strong><sup>.99</sup> <span class=\"price-current-range\"><abbr title=\"to\">–</abbr></span></li><li class=\"price-save\"><span class=\"price-save-label\">Combo Savings: </span><span class=\"price-save-dollar\">$25.00</span><span class=\"price-save-percent\"></span></li><li class=\"price-ship\"></li></ul><div class=\"item-operate\"><div class=\"item-button-area\"><button class=\"btn btn-primary btn-mini\" title=\"Add to cart \">Add to cart <i class=\"fas fa-caret-right\"></i></button></div></div></div></div></div>\n",
      "Error that occurred: IndexError\n",
      "Error message: list index out of range\n",
      "Cell where error occurred: <div class=\"item-cell\"><div class=\"item-container\"><a class=\"item-img combo-img-0\" href=\"https://www.newegg.com/Product/ComboDealDetails?ItemList=Combo.4500752\"><img alt=\"ASRock Radeon RX 6600 Video Card RX6600 CLD 8G and CORSAIR RM850 CP-9020235-NA 850 W Power Supply\" class=\"\" src=\"https://c1.neweggimages.com/ProductImageCompressAll300/combo4500752.jpg\" title=\"ASRock Radeon RX 6600 Video Card RX6600 CLD 8G and CORSAIR RM850 CP-9020235-NA 850 W Power Supply\"/><div class=\"item-quick-action-container\"><button class=\"quick-action\"><i class=\"fa fa-heart-outline\"></i></button></div></a><div class=\"item-info\"><a class=\"item-title\" href=\"https://www.newegg.com/Product/ComboDealDetails?ItemList=Combo.4500752\" title=\"View Details\">ASRock Radeon RX 6600 Video Card RX6600 CLD 8G and CORSAIR RM850 CP-9020235-NA 850 W Power Supply</a></div><div class=\"item-action\"><ul class=\"price\"><li class=\"price-was\"><span class=\"price-was-data\">$414.98</span></li><li class=\"price-map\"> </li><li class=\"price-current\"><span class=\"price-current-label\"></span>$<strong>394</strong><sup>.98</sup> <span class=\"price-current-range\"><abbr title=\"to\">–</abbr></span></li><li class=\"price-save\"><span class=\"price-save-label\">Combo Savings: </span><span class=\"price-save-dollar\">$20.00</span><span class=\"price-save-percent\"></span></li><li class=\"price-ship\"></li></ul><div class=\"item-operate\"><div class=\"item-button-area\"><button class=\"btn btn-primary btn-mini\" title=\"Add to cart \">Add to cart <i class=\"fas fa-caret-right\"></i></button></div></div></div></div></div>\n",
      "Error that occurred: IndexError\n",
      "Error message: list index out of range\n",
      "Cell where error occurred: <div class=\"item-cell\"><div class=\"item-container\"><a class=\"item-img combo-img-0\" href=\"https://www.newegg.com/Product/ComboDealDetails?ItemList=Combo.4500770\"><img alt=\"ASRock Radeon RX 6700 XT Challenger D Gaming Graphic Card 12GB GDDR6 VRAM AMD RDNA2 (RX6700XT CLD 12G) and CORSAIR RM850 CP-9020235-NA 850 W Power Supply\" class=\"\" src=\"https://c1.neweggimages.com/ProductImageCompressAll300/combo4500770.jpg\" title=\"ASRock Radeon RX 6700 XT Challenger D Gaming Graphic Card 12GB GDDR6 VRAM AMD RDNA2 (RX6700XT CLD 12G) and CORSAIR RM850 CP-9020235-NA 850 W Power Supply\"/><div class=\"item-quick-action-container\"><button class=\"quick-action\"><i class=\"fa fa-heart-outline\"></i></button></div></a><div class=\"item-info\"><a class=\"item-title\" href=\"https://www.newegg.com/Product/ComboDealDetails?ItemList=Combo.4500770\" title=\"View Details\">ASRock Radeon RX 6700 XT Challenger D Gaming Graphic Card 12GB GDDR6 VRAM AMD RDNA2 (RX6700XT CLD 12G) and CORSAIR RM850 CP-9020235-NA 850 W Power Supply</a></div><div class=\"item-action\"><ul class=\"price\"><li class=\"price-was\"><span class=\"price-was-data\">$623.98</span></li><li class=\"price-map\"> </li><li class=\"price-current\"><span class=\"price-current-label\"></span>$<strong>603</strong><sup>.98</sup> <span class=\"price-current-range\"><abbr title=\"to\">–</abbr></span></li><li class=\"price-save\"><span class=\"price-save-label\">Combo Savings: </span><span class=\"price-save-dollar\">$20.00</span><span class=\"price-save-percent\"></span></li><li class=\"price-ship\"></li></ul><div class=\"item-operate\"><div class=\"item-button-area\"><button class=\"btn btn-primary btn-mini\" title=\"Add to cart \">Add to cart <i class=\"fas fa-caret-right\"></i></button></div></div></div></div></div>\n",
      "Error that occurred: TypeError\n",
      "Error message: 'NoneType' object is not subscriptable\n",
      "Cell where error occurred: <div class=\"item-cell\" id=\"item_cell_9SIB601HAJ4518_19_1\"><div class=\"item-container\"><a class=\"item-img\" href=\"https://www.newegg.com/p/27N-0074-00008?Item=9SIB601HAJ4518&amp;Description=graphics cards&amp;cm_re=graphics_cards-_-9SIB601HAJ4518-_-Product&amp;cm_sp=SP-_-924679-_-0-_-2-_-9SIB601HAJ4518-_-graphics cards-_-card|graphic-_-19\"><img alt=\"Graphics HD7450 2GB GDDR3 64 Bit PCIE 2.0 HDMI-Compatible+VGA+DVI Interface Video Card with Cooling Fan\" src=\"https://c1.neweggimages.com/ProductImageCompressAll300/B601S220318UgT5Y.jpg\" title=\"Graphics HD7450 2GB GDDR3 64 Bit PCIE 2.0 HDMI-Compatible+VGA+DVI Interface Video Card with Cooling Fan\"/><div class=\"btn btn-large btn-quickview\">Quick View</div><div class=\"item-quick-action-container\"><button class=\"quick-action\"><i class=\"fa fa-heart-outline\"></i></button></div></a><div class=\"item-sponsored-box\"><div class=\"item-sponsored menu-box\"><span><i class=\"fas fa-info-circle-light\"></i> Sponsored</span><div class=\"menu-box-menu\" style=\"display:none\"><div class=\"menu-box-menu-arrow\"></div><div class=\"article\"><p>You’re seeing this ad based on the product’s relevance to your search query. If you are a seller and want to participate in this program click here to <a class=\"link-blue\" href=\"https://www.newegg.com/sellers/index.php/marketing-sponsored-product-ads/\">learn more</a>.</p></div></div></div></div><div class=\"item-info\"><div class=\"item-branding\"><a class=\"item-rating\" href=\"https://www.newegg.com/p/27N-0074-00008?IsFeedbackTab=true&amp;cm_sp=SP-_-924679-_-0-_-2-_-9SIB601HAJ4518-_-graphics cards-_-card|graphic-_-19#scrollFullInfo\" title=\"Rating + 4.5\"><i aria-label=\"rated 4.5 out of 5\" class=\"rating rating-4-5\"></i><span class=\"item-rating-num\">(2)</span></a></div><a class=\"item-title\" href=\"https://www.newegg.com/p/27N-0074-00008?Item=9SIB601HAJ4518&amp;Description=graphics cards&amp;cm_re=graphics_cards-_-9SIB601HAJ4518-_-Product&amp;cm_sp=SP-_-924679-_-0-_-2-_-9SIB601HAJ4518-_-graphics cards-_-card|graphic-_-19\" title=\"View Details\">Graphics HD7450 2GB GDDR3 64 Bit PCIE 2.0 HDMI-Compatible+VGA+DVI Interface Video Card with Cooling Fan</a><p class=\"item-promo\"><i class=\"item-promo-icon\"></i>Limited time offer, ends 06/22</p><ul class=\"item-features\"><li><strong>Core Clock:</strong> 625 MHz</li><li><strong>DisplayPort:</strong> 1 x DisplayPort</li><li><strong>DVI:</strong> 1 x DVI</li><li><strong>HDMI:</strong> 1 x HDMI</li><li><strong>Model #: </strong>NEWHD7450 2GB</li><li><strong>Item #: </strong>9SIB601HAJ4518</li><li><strong>Return Policy: </strong><a href=\"https://www.newegg.com/Seller-Store/Mannajue?initialTab=returnPolicy\" target=\"_blank\" title=\"View Return Policy(new window)\">View Return Policy</a></li></ul></div><div class=\"item-action\"><ul class=\"price\"><li class=\"price-was\"></li><li class=\"price-map\"> </li><li class=\"price-current\"><span class=\"price-current-label\"></span>$<strong>55</strong><sup>.99</sup> <span class=\"price-current-range\"><abbr title=\"to\">–</abbr></span></li><li class=\"price-save\"><span class=\"price-save-endtime\"><strong>Sale Ends in 12 Hours</strong> - </span></li><li class=\"price-ship\">Free Shipping</li></ul><div class=\"item-sellers top-seller\"><span class=\"menu-box\"><div class=\"menu-box-trigger\"><div class=\"d2c-section-title\"><img alt=\"Top Rated Seller\" src=\"https://c1.neweggimages.com/WebResource/Themes/Nest/icons/star_seller@2x.png\" width=\"16\"/><span> Mannajue Store</span><a class=\"link-more\" href=\"https://www.newegg.com/Seller-Store/Mannajue?cm_sp=seller-store-_-from-plp-product-cell\" target=\"_blank\" title=\"Visit Store\"><span>Visit Store</span></a></div></div><div class=\"menu-box-menu\"><div class=\"d2c-section\"><div class=\"d2c-section-desc\"><img alt=\"Top Rated Seller\" src=\"https://c1.neweggimages.com/WebResource/Themes/Nest/icons/star_seller@2x.png\" width=\"16\"/> <!-- -->Top Rated Seller</div></div></div></span></div><div class=\"item-operate\"><div class=\"item-button-area\"><button class=\"btn btn-primary btn-mini\" title=\"Add Graphics HD7450 2GB GDDR3 64 Bit PCIE 2.0 HDMI-Compatible+VGA+DVI Interface Video Card with Cooling Fan to cart\">Add to cart <i class=\"fas fa-caret-right\"></i></button></div><div class=\"item-compare-box\"><label class=\"form-checkbox\"><input autocomplete=\"off\" type=\"checkbox\"/><span class=\"form-checkbox-title\">Compare</span></label></div></div></div><div class=\"item-stock\" id=\"stock_9SIB601HAJ4518\"></div></div></div>\n",
      "Error that occurred: IndexError\n",
      "Error message: list index out of range\n",
      "Cell where error occurred: <div class=\"item-cell\"><div class=\"item-container\"><a class=\"item-img combo-img-0\" href=\"https://www.newegg.com/Product/ComboDealDetails?ItemList=Combo.4503356\"><img alt=\"ASUS TUF Gaming GeForce RTX 3070 V2 OC Edition 8GB GDDR6 PCI Express 4.0 Video Card TUF-RTX3070-O8G-V2-GAMING (LHR) and Domino's $25 Gift Card (Email Delivery)\" class=\"\" src=\"https://c1.neweggimages.com/ProductImageCompressAll300/combo4503356.jpg\" title=\"ASUS TUF Gaming GeForce RTX 3070 V2 OC Edition 8GB GDDR6 PCI Express 4.0 Video Card TUF-RTX3070-O8G-V2-GAMING (LHR) and Domino's $25 Gift Card (Email Delivery)\"/><div class=\"item-quick-action-container\"><button class=\"quick-action\"><i class=\"fa fa-heart-outline\"></i></button></div></a><div class=\"item-info\"><a class=\"item-title\" href=\"https://www.newegg.com/Product/ComboDealDetails?ItemList=Combo.4503356\" title=\"View Details\">ASUS TUF Gaming GeForce RTX 3070 V2 OC Edition 8GB GDDR6 PCI Express 4.0 Video Card TUF-RTX3070-O8G-V2-GAMING (LHR) and Domino's $25 Gift Card (Email Delivery)</a></div><div class=\"item-action\"><ul class=\"price\"><li class=\"price-was\"><span class=\"price-was-data\">$684.99</span></li><li class=\"price-map\"> </li><li class=\"price-current\"><span class=\"price-current-label\"></span>$<strong>659</strong><sup>.99</sup> <span class=\"price-current-range\"><abbr title=\"to\">–</abbr></span></li><li class=\"price-save\"><span class=\"price-save-label\">Combo Savings: </span><span class=\"price-save-dollar\">$25.00</span><span class=\"price-save-percent\"></span></li><li class=\"price-ship\"></li></ul><div class=\"item-operate\"><div class=\"item-button-area\"><button class=\"btn btn-primary btn-mini\" title=\"Add to cart \">Add to cart <i class=\"fas fa-caret-right\"></i></button></div></div></div></div></div>\n",
      "Error that occurred: IndexError\n",
      "Error message: list index out of range\n",
      "Cell where error occurred: <div class=\"item-cell\"><div class=\"item-container\"><a class=\"item-img combo-img-0\" href=\"https://www.newegg.com/Product/ComboDealDetails?ItemList=Combo.4500752\"><img alt=\"ASRock Radeon RX 6600 Video Card RX6600 CLD 8G and CORSAIR RM850 CP-9020235-NA 850 W Power Supply\" class=\"\" src=\"https://c1.neweggimages.com/ProductImageCompressAll300/combo4500752.jpg\" title=\"ASRock Radeon RX 6600 Video Card RX6600 CLD 8G and CORSAIR RM850 CP-9020235-NA 850 W Power Supply\"/><div class=\"item-quick-action-container\"><button class=\"quick-action\"><i class=\"fa fa-heart-outline\"></i></button></div></a><div class=\"item-info\"><a class=\"item-title\" href=\"https://www.newegg.com/Product/ComboDealDetails?ItemList=Combo.4500752\" title=\"View Details\">ASRock Radeon RX 6600 Video Card RX6600 CLD 8G and CORSAIR RM850 CP-9020235-NA 850 W Power Supply</a></div><div class=\"item-action\"><ul class=\"price\"><li class=\"price-was\"><span class=\"price-was-data\">$414.98</span></li><li class=\"price-map\"> </li><li class=\"price-current\"><span class=\"price-current-label\"></span>$<strong>394</strong><sup>.98</sup> <span class=\"price-current-range\"><abbr title=\"to\">–</abbr></span></li><li class=\"price-save\"><span class=\"price-save-label\">Combo Savings: </span><span class=\"price-save-dollar\">$20.00</span><span class=\"price-save-percent\"></span></li><li class=\"price-ship\"></li></ul><div class=\"item-operate\"><div class=\"item-button-area\"><button class=\"btn btn-primary btn-mini\" title=\"Add to cart \">Add to cart <i class=\"fas fa-caret-right\"></i></button></div></div></div></div></div>\n",
      "Error that occurred: IndexError\n",
      "Error message: list index out of range\n",
      "Cell where error occurred: <div class=\"item-cell\"><div class=\"item-container\"><a class=\"item-img combo-img-0\" href=\"https://www.newegg.com/Product/ComboDealDetails?ItemList=Combo.4500770\"><img alt=\"ASRock Radeon RX 6700 XT Challenger D Gaming Graphic Card 12GB GDDR6 VRAM AMD RDNA2 (RX6700XT CLD 12G) and CORSAIR RM850 CP-9020235-NA 850 W Power Supply\" class=\"\" src=\"https://c1.neweggimages.com/ProductImageCompressAll300/combo4500770.jpg\" title=\"ASRock Radeon RX 6700 XT Challenger D Gaming Graphic Card 12GB GDDR6 VRAM AMD RDNA2 (RX6700XT CLD 12G) and CORSAIR RM850 CP-9020235-NA 850 W Power Supply\"/><div class=\"item-quick-action-container\"><button class=\"quick-action\"><i class=\"fa fa-heart-outline\"></i></button></div></a><div class=\"item-info\"><a class=\"item-title\" href=\"https://www.newegg.com/Product/ComboDealDetails?ItemList=Combo.4500770\" title=\"View Details\">ASRock Radeon RX 6700 XT Challenger D Gaming Graphic Card 12GB GDDR6 VRAM AMD RDNA2 (RX6700XT CLD 12G) and CORSAIR RM850 CP-9020235-NA 850 W Power Supply</a></div><div class=\"item-action\"><ul class=\"price\"><li class=\"price-was\"><span class=\"price-was-data\">$623.98</span></li><li class=\"price-map\"> </li><li class=\"price-current\"><span class=\"price-current-label\"></span>$<strong>603</strong><sup>.98</sup> <span class=\"price-current-range\"><abbr title=\"to\">–</abbr></span></li><li class=\"price-save\"><span class=\"price-save-label\">Combo Savings: </span><span class=\"price-save-dollar\">$20.00</span><span class=\"price-save-percent\"></span></li><li class=\"price-ship\"></li></ul><div class=\"item-operate\"><div class=\"item-button-area\"><button class=\"btn btn-primary btn-mini\" title=\"Add to cart \">Add to cart <i class=\"fas fa-caret-right\"></i></button></div></div></div></div></div>\n",
      "Error that occurred: TypeError\n",
      "Error message: 'NoneType' object is not subscriptable\n",
      "Cell where error occurred: <div class=\"item-cell\" id=\"item_cell_9SIB601H059739_6_1\"><div class=\"item-container\"><a class=\"item-img\" href=\"https://www.newegg.com/p/1FT-00FX-00021?Item=9SIB601H059739&amp;Description=graphics cards&amp;cm_re=graphics_cards-_-9SIB601H059739-_-Product&amp;cm_sp=SP-_-1000907-_-0-_-3-_-9SIB601H059739-_-graphics cards-_-card|graphic-_-6\"><img alt=\"LISM GeForce GTX780Ti 4GB GDDR5 256bit/ PCI Express 2.0 x12 desktop graphics cards low profile Standard ATX Video Card HDMI+DVI+DP(limited edition)\" src=\"https://c1.neweggimages.com/ProductImageCompressAll300/B601S220215AylII.jpg\" title=\"LISM GeForce GTX780Ti 4GB GDDR5 256bit/ PCI Express 2.0 x12 desktop graphics cards low profile Standard ATX Video Card HDMI+DVI+DP(limited edition)\"/><div class=\"btn btn-large btn-quickview\">Quick View</div><div class=\"item-quick-action-container\"><button class=\"quick-action\"><i class=\"fa fa-heart-outline\"></i></button></div></a><div class=\"item-sponsored-box\"><div class=\"item-sponsored menu-box\"><span><i class=\"fas fa-info-circle-light\"></i> Sponsored</span><div class=\"menu-box-menu\" style=\"display:none\"><div class=\"menu-box-menu-arrow\"></div><div class=\"article\"><p>You’re seeing this ad based on the product’s relevance to your search query. If you are a seller and want to participate in this program click here to <a class=\"link-blue\" href=\"https://www.newegg.com/sellers/index.php/marketing-sponsored-product-ads/\">learn more</a>.</p></div></div></div></div><div class=\"item-info\"><div class=\"item-branding\"></div><a class=\"item-title\" href=\"https://www.newegg.com/p/1FT-00FX-00021?Item=9SIB601H059739&amp;Description=graphics cards&amp;cm_re=graphics_cards-_-9SIB601H059739-_-Product&amp;cm_sp=SP-_-1000907-_-0-_-3-_-9SIB601H059739-_-graphics cards-_-card|graphic-_-6\" title=\"View Details\">LISM GeForce GTX780Ti 4GB GDDR5 256bit/ PCI Express 2.0 x12 desktop graphics cards low profile Standard ATX Video Card HDMI+DVI+DP(limited edition)</a><p class=\"item-promo\"><i class=\"item-promo-icon\"></i>Limited time offer, ends 06/22</p><ul class=\"item-features\"><li><strong>Core Clock:</strong> 863 MHz</li><li><strong>Max Resolution:</strong> 2560 x 1400</li><li><strong>DisplayPort:</strong> 1 x DisplayPort</li><li><strong>DVI:</strong> 1 x DVI</li><li><strong>Model #: </strong>NEW780ti4GB</li><li><strong>Item #: </strong>9SIB601H059739</li><li><strong>Return Policy: </strong><a href=\"https://www.newegg.com/Seller-Store/Mannajue?initialTab=returnPolicy\" target=\"_blank\" title=\"View Return Policy(new window)\">View Return Policy</a></li></ul></div><div class=\"item-action\"><ul class=\"price\"><li class=\"price-was\"></li><li class=\"price-map\"> </li><li class=\"price-current\"><span class=\"price-current-label\"></span>$<strong>199</strong><sup>.99</sup> <span class=\"price-current-range\"><abbr title=\"to\">–</abbr></span></li><li class=\"price-save\"><span class=\"price-save-endtime\"><strong>Sale Ends in 12 Hours</strong> - </span></li><li class=\"price-ship\">Free Shipping</li></ul><div class=\"item-sellers top-seller\"><span class=\"menu-box\"><div class=\"menu-box-trigger\"><div class=\"d2c-section-title\"><img alt=\"Top Rated Seller\" src=\"https://c1.neweggimages.com/WebResource/Themes/Nest/icons/star_seller@2x.png\" width=\"16\"/><span> Mannajue Store</span><a class=\"link-more\" href=\"https://www.newegg.com/Seller-Store/Mannajue?cm_sp=seller-store-_-from-plp-product-cell\" target=\"_blank\" title=\"Visit Store\"><span>Visit Store</span></a></div></div><div class=\"menu-box-menu\"><div class=\"d2c-section\"><div class=\"d2c-section-desc\"><img alt=\"Top Rated Seller\" src=\"https://c1.neweggimages.com/WebResource/Themes/Nest/icons/star_seller@2x.png\" width=\"16\"/> <!-- -->Top Rated Seller</div></div></div></span></div><div class=\"item-operate\"><div class=\"item-button-area\"><button class=\"btn btn-primary btn-mini\" title=\"Add LISM GeForce GTX780Ti 4GB GDDR5 256bit/ PCI Express 2.0 x12 desktop graphics cards low profile Standard ATX Video Card HDMI+DVI+DP(limited edition) to cart\">Add to cart <i class=\"fas fa-caret-right\"></i></button></div><div class=\"item-compare-box\"><label class=\"form-checkbox\"><input autocomplete=\"off\" type=\"checkbox\"/><span class=\"form-checkbox-title\">Compare</span></label></div></div></div><div class=\"item-stock\" id=\"stock_9SIB601H059739\"></div></div></div>\n",
      "Error that occurred: TypeError\n",
      "Error message: 'NoneType' object is not subscriptable\n",
      "Cell where error occurred: <div class=\"item-cell\" id=\"item_cell_9SIB601GPT7051_10_1\"><div class=\"item-container\"><a class=\"item-img\" href=\"https://www.newegg.com/p/1FT-00FX-00009?Item=9SIB601GPT7051&amp;Description=graphics cards&amp;cm_re=graphics_cards-_-9SIB601GPT7051-_-Product&amp;cm_sp=SP-_-947177-_-0-_-3-_-9SIB601GPT7051-_-graphics cards-_-card|graphic-_-10\"><img alt=\"LISM GeForce GTX780Ti 4GB GDDR5 256bit/ PCI Express 2.0 x12 Standard ATX Video Card HDMI+DVI+DP(limited edition)\" src=\"https://c1.neweggimages.com/ProductImageCompressAll300/B601S211218g6VuG.jpg\" title=\"LISM GeForce GTX780Ti 4GB GDDR5 256bit/ PCI Express 2.0 x12 Standard ATX Video Card HDMI+DVI+DP(limited edition)\"/><div class=\"btn btn-large btn-quickview\">Quick View</div><div class=\"item-quick-action-container\"><button class=\"quick-action\"><i class=\"fa fa-heart-outline\"></i></button></div></a><div class=\"item-sponsored-box\"><div class=\"item-sponsored menu-box\"><span><i class=\"fas fa-info-circle-light\"></i> Sponsored</span><div class=\"menu-box-menu\" style=\"display:none\"><div class=\"menu-box-menu-arrow\"></div><div class=\"article\"><p>You’re seeing this ad based on the product’s relevance to your search query. If you are a seller and want to participate in this program click here to <a class=\"link-blue\" href=\"https://www.newegg.com/sellers/index.php/marketing-sponsored-product-ads/\">learn more</a>.</p></div></div></div></div><div class=\"item-info\"><div class=\"item-branding\"><a class=\"item-rating\" href=\"https://www.newegg.com/p/1FT-00FX-00009?IsFeedbackTab=true&amp;cm_sp=SP-_-947177-_-0-_-3-_-9SIB601GPT7051-_-graphics cards-_-card|graphic-_-10#scrollFullInfo\" title=\"Rating + 3\"><i aria-label=\"rated 3 out of 5\" class=\"rating rating-3\"></i><span class=\"item-rating-num\">(2)</span></a></div><a class=\"item-title\" href=\"https://www.newegg.com/p/1FT-00FX-00009?Item=9SIB601GPT7051&amp;Description=graphics cards&amp;cm_re=graphics_cards-_-9SIB601GPT7051-_-Product&amp;cm_sp=SP-_-947177-_-0-_-3-_-9SIB601GPT7051-_-graphics cards-_-card|graphic-_-10\" title=\"View Details\">LISM GeForce GTX780Ti 4GB GDDR5 256bit/ PCI Express 2.0 x12 Standard ATX Video Card HDMI+DVI+DP(limited edition)</a><p class=\"item-promo\"><i class=\"item-promo-icon\"></i>Limited time offer, ends 06/22</p><ul class=\"item-features\"><li><strong>Core Clock:</strong> 863 MHz</li><li><strong>Max Resolution:</strong> 2560 x 1400</li><li><strong>DVI:</strong> 1 x DVI</li><li><strong>HDMI:</strong> 1 x HDMI</li><li><strong>Model #: </strong>GTX780Ti 4GB</li><li><strong>Item #: </strong>9SIB601GPT7051</li><li><strong>Return Policy: </strong><a href=\"https://www.newegg.com/Seller-Store/Mannajue?initialTab=returnPolicy\" target=\"_blank\" title=\"View Return Policy(new window)\">View Return Policy</a></li></ul></div><div class=\"item-action\"><ul class=\"price\"><li class=\"price-was\"></li><li class=\"price-map\"> </li><li class=\"price-current\"><span class=\"price-current-label\"></span>$<strong>199</strong><sup>.99</sup> <span class=\"price-current-range\"><abbr title=\"to\">–</abbr></span></li><li class=\"price-save\"><span class=\"price-save-endtime\"><strong>Sale Ends in 12 Hours</strong> - </span></li><li class=\"price-ship\">Free Shipping</li></ul><div class=\"item-sellers top-seller\"><span class=\"menu-box\"><div class=\"menu-box-trigger\"><div class=\"d2c-section-title\"><img alt=\"Top Rated Seller\" src=\"https://c1.neweggimages.com/WebResource/Themes/Nest/icons/star_seller@2x.png\" width=\"16\"/><span> Mannajue Store</span><a class=\"link-more\" href=\"https://www.newegg.com/Seller-Store/Mannajue?cm_sp=seller-store-_-from-plp-product-cell\" target=\"_blank\" title=\"Visit Store\"><span>Visit Store</span></a></div></div><div class=\"menu-box-menu\"><div class=\"d2c-section\"><div class=\"d2c-section-desc\"><img alt=\"Top Rated Seller\" src=\"https://c1.neweggimages.com/WebResource/Themes/Nest/icons/star_seller@2x.png\" width=\"16\"/> <!-- -->Top Rated Seller</div></div></div></span></div><div class=\"item-operate\"><div class=\"item-button-area\"><button class=\"btn btn-primary btn-mini\" title=\"Add LISM GeForce GTX780Ti 4GB GDDR5 256bit/ PCI Express 2.0 x12 Standard ATX Video Card HDMI+DVI+DP(limited edition) to cart\">Add to cart <i class=\"fas fa-caret-right\"></i></button></div><div class=\"item-compare-box\"><label class=\"form-checkbox\"><input autocomplete=\"off\" type=\"checkbox\"/><span class=\"form-checkbox-title\">Compare</span></label></div></div></div><div class=\"item-stock\" id=\"stock_9SIB601GPT7051\"></div></div></div>\n",
      "Error that occurred: TypeError\n",
      "Error message: 'NoneType' object is not subscriptable\n",
      "Cell where error occurred: <div class=\"item-cell\" id=\"item_cell_9SIB601HWN5961_21_1\"><div class=\"item-container\"><a class=\"item-img\" href=\"https://www.newegg.com/p/27N-0074-00009?Item=9SIB601HWN5961&amp;Description=graphics cards&amp;cm_re=graphics_cards-_-9SIB601HWN5961-_-Product&amp;cm_sp=SP-_-1182137-_-0-_-2-_-9SIB601HWN5961-_-graphics cards-_-card|graphic-_-21\"><img alt=\"R7 240 4GB DDR3 128BIT Desktop Computer Game Graphics Card Gaming Video Card for PC HDMI-compatible interface\" src=\"https://c1.neweggimages.com/ProductImageCompressAll300/B601S220524SPFTs.jpg\" title=\"R7 240 4GB DDR3 128BIT Desktop Computer Game Graphics Card Gaming Video Card for PC HDMI-compatible interface\"/><div class=\"btn btn-large btn-quickview\">Quick View</div><div class=\"item-quick-action-container\"><button class=\"quick-action\"><i class=\"fa fa-heart-outline\"></i></button></div></a><div class=\"item-sponsored-box\"><div class=\"item-sponsored menu-box\"><span><i class=\"fas fa-info-circle-light\"></i> Sponsored</span><div class=\"menu-box-menu\" style=\"display:none\"><div class=\"menu-box-menu-arrow\"></div><div class=\"article\"><p>You’re seeing this ad based on the product’s relevance to your search query. If you are a seller and want to participate in this program click here to <a class=\"link-blue\" href=\"https://www.newegg.com/sellers/index.php/marketing-sponsored-product-ads/\">learn more</a>.</p></div></div></div></div><div class=\"item-info\"><div class=\"item-branding\"></div><a class=\"item-title\" href=\"https://www.newegg.com/p/27N-0074-00009?Item=9SIB601HWN5961&amp;Description=graphics cards&amp;cm_re=graphics_cards-_-9SIB601HWN5961-_-Product&amp;cm_sp=SP-_-1182137-_-0-_-2-_-9SIB601HWN5961-_-graphics cards-_-card|graphic-_-21\" title=\"View Details\">R7 240 4GB DDR3 128BIT Desktop Computer Game Graphics Card Gaming Video Card for PC HDMI-compatible interface</a><p class=\"item-promo\"><i class=\"item-promo-icon\"></i>Limited time offer, ends 06/22</p><ul class=\"item-features\"><li><strong>Model #: </strong>R7 240 4GB</li><li><strong>Item #: </strong>9SIB601HWN5961</li><li><strong>Return Policy: </strong><a href=\"https://www.newegg.com/Seller-Store/Mannajue?initialTab=returnPolicy\" target=\"_blank\" title=\"View Return Policy(new window)\">View Return Policy</a></li></ul></div><div class=\"item-action\"><ul class=\"price\"><li class=\"price-was\"></li><li class=\"price-map\"> </li><li class=\"price-current\"><span class=\"price-current-label\"></span>$<strong>99</strong><sup>.99</sup> <span class=\"price-current-range\"><abbr title=\"to\">–</abbr></span></li><li class=\"price-save\"><span class=\"price-save-endtime\"><strong>Sale Ends in 12 Hours</strong> - </span></li><li class=\"price-ship\">Free Shipping</li></ul><div class=\"item-sellers top-seller\"><span class=\"menu-box\"><div class=\"menu-box-trigger\"><div class=\"d2c-section-title\"><img alt=\"Top Rated Seller\" src=\"https://c1.neweggimages.com/WebResource/Themes/Nest/icons/star_seller@2x.png\" width=\"16\"/><span> Mannajue Store</span><a class=\"link-more\" href=\"https://www.newegg.com/Seller-Store/Mannajue?cm_sp=seller-store-_-from-plp-product-cell\" target=\"_blank\" title=\"Visit Store\"><span>Visit Store</span></a></div></div><div class=\"menu-box-menu\"><div class=\"d2c-section\"><div class=\"d2c-section-desc\"><img alt=\"Top Rated Seller\" src=\"https://c1.neweggimages.com/WebResource/Themes/Nest/icons/star_seller@2x.png\" width=\"16\"/> <!-- -->Top Rated Seller</div></div></div></span></div><div class=\"item-operate\"><div class=\"item-button-area\"><button class=\"btn btn-primary btn-mini\" title=\"Add R7 240 4GB DDR3 128BIT Desktop Computer Game Graphics Card Gaming Video Card for PC HDMI-compatible interface to cart\">Add to cart <i class=\"fas fa-caret-right\"></i></button></div><div class=\"item-compare-box\"><label class=\"form-checkbox\"><input autocomplete=\"off\" type=\"checkbox\"/><span class=\"form-checkbox-title\">Compare</span></label></div></div></div><div class=\"item-stock\" id=\"stock_9SIB601HWN5961\"></div></div></div>\n",
      "Error that occurred: TypeError\n",
      "Error message: 'NoneType' object is not subscriptable\n",
      "Cell where error occurred: <div class=\"item-cell\" id=\"item_cell_9SIAT8UHC08947_33_1\"><div class=\"item-container\"><a class=\"item-img\" href=\"https://www.newegg.com/gigabyte-gv-n2060d6-6gd/p/1FT-00DK-00058?Item=9SIAT8UHC08947&amp;Description=graphics cards&amp;cm_re=graphics_cards-_-9SIAT8UHC08947-_-Product&amp;cm_sp=SP-_-1045942-_-0-_-2-_-9SIAT8UHC08947-_-graphics cards-_-card|graphic-_-33\"><img alt=\"GIGABYTE Geforce RTX 2060 6G Graphics Card, 2 x WINDFORCE Fans, 6GB 192-Bit GDDR, GV-N2060D6-6GD Video Card\" src=\"https://c1.neweggimages.com/ProductImageCompressAll300/AT8US22032812RARH2D.jpg\" title=\"GIGABYTE Geforce RTX 2060 6G Graphics Card, 2 x WINDFORCE Fans, 6GB 192-Bit GDDR, GV-N2060D6-6GD Video Card\"/><div class=\"btn btn-large btn-quickview\">Quick View</div><div class=\"item-quick-action-container\"><button class=\"quick-action\"><i class=\"fa fa-heart-outline\"></i></button></div></a><div class=\"item-sponsored-box\"><div class=\"item-sponsored menu-box\"><span><i class=\"fas fa-info-circle-light\"></i> Sponsored</span><div class=\"menu-box-menu\" style=\"display:none\"><div class=\"menu-box-menu-arrow\"></div><div class=\"article\"><p>You’re seeing this ad based on the product’s relevance to your search query. If you are a seller and want to participate in this program click here to <a class=\"link-blue\" href=\"https://www.newegg.com/sellers/index.php/marketing-sponsored-product-ads/\">learn more</a>.</p></div></div></div></div><div class=\"item-info\"><div class=\"item-branding\"></div><a class=\"item-title\" href=\"https://www.newegg.com/gigabyte-gv-n2060d6-6gd/p/1FT-00DK-00058?Item=9SIAT8UHC08947&amp;Description=graphics cards&amp;cm_re=graphics_cards-_-9SIAT8UHC08947-_-Product&amp;cm_sp=SP-_-1045942-_-0-_-2-_-9SIAT8UHC08947-_-graphics cards-_-card|graphic-_-33\" title=\"View Details\">GIGABYTE Geforce RTX 2060 6G Graphics Card, 2 x WINDFORCE Fans, 6GB 192-Bit GDDR, GV-N2060D6-6GD Video Card</a><ul class=\"item-features\"><li><strong>Model #: </strong>2060D6-AT8U</li><li><strong>Item #: </strong>9SIAT8UHC08947</li><li><strong>Return Policy: </strong><a href=\"https://www.newegg.com/Seller-Store/Octfam?initialTab=returnPolicy\" target=\"_blank\" title=\"View Return Policy(new window)\">View Return Policy</a></li></ul></div><div class=\"item-action\"><ul class=\"price\"><li class=\"price-was\"></li><li class=\"price-map\"> </li><li class=\"price-current\"><span class=\"price-current-label\"></span>$<strong>439</strong><sup>.95</sup> <span class=\"price-current-range\"><abbr title=\"to\">–</abbr></span></li><li class=\"price-save\"></li><li class=\"price-ship\">Free Shipping</li></ul><div class=\"item-sellers top-seller\"><span class=\"menu-box\"><div class=\"menu-box-trigger\"><div class=\"d2c-section-title\"><span>Octfam Store</span><a class=\"link-more\" href=\"https://www.newegg.com/Seller-Store/Octfam?cm_sp=seller-store-_-from-plp-product-cell\" target=\"_blank\" title=\"Visit Store\"><span>Visit Store</span></a></div></div></span></div><div class=\"item-operate\"><div class=\"item-button-area\"><button class=\"btn btn-primary btn-mini\" title=\"Add GIGABYTE Geforce RTX 2060 6G Graphics Card, 2 x WINDFORCE Fans, 6GB 192-Bit GDDR, GV-N2060D6-6GD Video Card to cart\">Add to cart <i class=\"fas fa-caret-right\"></i></button></div><div class=\"item-compare-box\"><label class=\"form-checkbox\"><input autocomplete=\"off\" type=\"checkbox\"/><span class=\"form-checkbox-title\">Compare</span></label></div></div></div><div class=\"item-stock\" id=\"stock_9SIAT8UHC08947\"></div></div></div>\n",
      "Error that occurred: TypeError\n",
      "Error message: 'NoneType' object is not subscriptable\n",
      "Cell where error occurred: <div class=\"item-cell\" id=\"item_cell_9SIB601H104048_34_1\"><div class=\"item-container\"><a class=\"item-img\" href=\"https://www.newegg.com/p/1FT-00FX-00023?Item=9SIB601H104048&amp;Description=graphics cards&amp;cm_re=graphics_cards-_-9SIB601H104048-_-Product&amp;cm_sp=SP-_-949895-_-0-_-2-_-9SIB601H104048-_-graphics cards-_-card|graphic-_-34\"><img alt=\"LISM GTX750Ti 2GB 128Bit GDDR5 Graphic Card Video Card GPU DirectX 12 PCI Express2.0 x16 DVI/VGA/HDMI\" src=\"https://c1.neweggimages.com/ProductImageCompressAll300/B601S220220SS94F.jpg\" title=\"LISM GTX750Ti 2GB 128Bit GDDR5 Graphic Card Video Card GPU DirectX 12 PCI Express2.0 x16 DVI/VGA/HDMI\"/><div class=\"btn btn-large btn-quickview\">Quick View</div><div class=\"item-quick-action-container\"><button class=\"quick-action\"><i class=\"fa fa-heart-outline\"></i></button></div></a><div class=\"item-sponsored-box\"><div class=\"item-sponsored menu-box\"><span><i class=\"fas fa-info-circle-light\"></i> Sponsored</span><div class=\"menu-box-menu\" style=\"display:none\"><div class=\"menu-box-menu-arrow\"></div><div class=\"article\"><p>You’re seeing this ad based on the product’s relevance to your search query. If you are a seller and want to participate in this program click here to <a class=\"link-blue\" href=\"https://www.newegg.com/sellers/index.php/marketing-sponsored-product-ads/\">learn more</a>.</p></div></div></div></div><div class=\"item-info\"><div class=\"item-branding\"></div><a class=\"item-title\" href=\"https://www.newegg.com/p/1FT-00FX-00023?Item=9SIB601H104048&amp;Description=graphics cards&amp;cm_re=graphics_cards-_-9SIB601H104048-_-Product&amp;cm_sp=SP-_-949895-_-0-_-2-_-9SIB601H104048-_-graphics cards-_-card|graphic-_-34\" title=\"View Details\">LISM GTX750Ti 2GB 128Bit GDDR5 Graphic Card Video Card GPU DirectX 12 PCI Express2.0 x16 DVI/VGA/HDMI</a><p class=\"item-promo\"><i class=\"item-promo-icon\"></i>Limited time offer, ends 06/22</p><ul class=\"item-features\"><li><strong>Core Clock:</strong> 928HMz</li><li><strong>Max Resolution:</strong> 1928*1080</li><li><strong>DisplayPort:</strong> 1 x DisplayPort</li><li><strong>DVI:</strong> 1 x DVI</li><li><strong>Model #: </strong>NEW750ti2GB</li><li><strong>Item #: </strong>9SIB601H104048</li><li><strong>Return Policy: </strong><a href=\"https://www.newegg.com/Seller-Store/Mannajue?initialTab=returnPolicy\" target=\"_blank\" title=\"View Return Policy(new window)\">View Return Policy</a></li></ul></div><div class=\"item-action\"><ul class=\"price\"><li class=\"price-was\"></li><li class=\"price-map\"> </li><li class=\"price-current\"><span class=\"price-current-label\"></span>$<strong>134</strong><sup>.99</sup> <span class=\"price-current-range\"><abbr title=\"to\">–</abbr></span></li><li class=\"price-save\"><span class=\"price-save-endtime\"><strong>Sale Ends in 12 Hours</strong> - </span></li><li class=\"price-ship\">Free Shipping</li></ul><div class=\"item-sellers top-seller\"><span class=\"menu-box\"><div class=\"menu-box-trigger\"><div class=\"d2c-section-title\"><img alt=\"Top Rated Seller\" src=\"https://c1.neweggimages.com/WebResource/Themes/Nest/icons/star_seller@2x.png\" width=\"16\"/><span> Mannajue Store</span><a class=\"link-more\" href=\"https://www.newegg.com/Seller-Store/Mannajue?cm_sp=seller-store-_-from-plp-product-cell\" target=\"_blank\" title=\"Visit Store\"><span>Visit Store</span></a></div></div><div class=\"menu-box-menu\"><div class=\"d2c-section\"><div class=\"d2c-section-desc\"><img alt=\"Top Rated Seller\" src=\"https://c1.neweggimages.com/WebResource/Themes/Nest/icons/star_seller@2x.png\" width=\"16\"/> <!-- -->Top Rated Seller</div></div></div></span></div><div class=\"item-operate\"><div class=\"item-button-area\"><button class=\"btn btn-primary btn-mini\" title=\"Add LISM GTX750Ti 2GB 128Bit GDDR5 Graphic Card Video Card GPU DirectX 12 PCI Express2.0 x16 DVI/VGA/HDMI to cart\">Add to cart <i class=\"fas fa-caret-right\"></i></button></div><div class=\"item-compare-box\"><label class=\"form-checkbox\"><input autocomplete=\"off\" type=\"checkbox\"/><span class=\"form-checkbox-title\">Compare</span></label></div></div></div><div class=\"item-stock\" id=\"stock_9SIB601H104048\"></div></div></div>\n",
      "Error that occurred: TypeError\n",
      "Error message: 'NoneType' object is not subscriptable\n",
      "Cell where error occurred: <div class=\"item-cell\" id=\"item_cell_9SIB601GTS2912_18_1\"><div class=\"item-container\"><a class=\"item-img\" href=\"https://www.newegg.com/p/1FT-00FX-00017?Item=9SIB601GTS2912&amp;Description=graphics cards&amp;cm_re=graphics_cards-_-9SIB601GTS2912-_-Product&amp;cm_sp=SP-_-996103-_-0-_-6-_-9SIB601GTS2912-_-graphics cards-_-card|graphic-_-18\"><img alt=\"LISM GTX960 4G GDDR5 128Bit PC Desktop video card PCI Express 2.0 computer video cards\" src=\"https://c1.neweggimages.com/ProductImageCompressAll300/B601S220125TvgTy.jpg\" title=\"LISM GTX960 4G GDDR5 128Bit PC Desktop video card PCI Express 2.0 computer video cards\"/><div class=\"btn btn-large btn-quickview\">Quick View</div><div class=\"item-quick-action-container\"><button class=\"quick-action\"><i class=\"fa fa-heart-outline\"></i></button></div></a><div class=\"item-sponsored-box\"><div class=\"item-sponsored menu-box\"><span><i class=\"fas fa-info-circle-light\"></i> Sponsored</span><div class=\"menu-box-menu\" style=\"display:none\"><div class=\"menu-box-menu-arrow\"></div><div class=\"article\"><p>You’re seeing this ad based on the product’s relevance to your search query. If you are a seller and want to participate in this program click here to <a class=\"link-blue\" href=\"https://www.newegg.com/sellers/index.php/marketing-sponsored-product-ads/\">learn more</a>.</p></div></div></div></div><div class=\"item-info\"><div class=\"item-branding\"></div><a class=\"item-title\" href=\"https://www.newegg.com/p/1FT-00FX-00017?Item=9SIB601GTS2912&amp;Description=graphics cards&amp;cm_re=graphics_cards-_-9SIB601GTS2912-_-Product&amp;cm_sp=SP-_-996103-_-0-_-6-_-9SIB601GTS2912-_-graphics cards-_-card|graphic-_-18\" title=\"View Details\">LISM GTX960 4G GDDR5 128Bit PC Desktop video card PCI Express 2.0 computer video cards</a><p class=\"item-promo\"><i class=\"item-promo-icon\"></i>Limited time offer, ends 06/22</p><ul class=\"item-features\"><li><strong>Max Resolution:</strong> 4096 x 2160</li><li><strong>DVI:</strong> 1 x DVI</li><li><strong>HDMI:</strong> 1 x HDMI</li><li><strong>Card Dimensions (L x H):</strong> 9.45*4.72INCH</li><li><strong>Model #: </strong>GTX960 4G</li><li><strong>Item #: </strong>9SIB601GTS2912</li><li><strong>Return Policy: </strong><a href=\"https://www.newegg.com/Seller-Store/Mannajue?initialTab=returnPolicy\" target=\"_blank\" title=\"View Return Policy(new window)\">View Return Policy</a></li></ul></div><div class=\"item-action\"><ul class=\"price\"><li class=\"price-was\"></li><li class=\"price-map\"> </li><li class=\"price-current\"><span class=\"price-current-label\"></span>$<strong>219</strong><sup>.99</sup> <span class=\"price-current-range\"><abbr title=\"to\">–</abbr></span></li><li class=\"price-save\"><span class=\"price-save-endtime\"><strong>Sale Ends in 12 Hours</strong> - </span></li><li class=\"price-ship\">Free Shipping</li></ul><div class=\"item-sellers top-seller\"><span class=\"menu-box\"><div class=\"menu-box-trigger\"><div class=\"d2c-section-title\"><img alt=\"Top Rated Seller\" src=\"https://c1.neweggimages.com/WebResource/Themes/Nest/icons/star_seller@2x.png\" width=\"16\"/><span> Mannajue Store</span><a class=\"link-more\" href=\"https://www.newegg.com/Seller-Store/Mannajue?cm_sp=seller-store-_-from-plp-product-cell\" target=\"_blank\" title=\"Visit Store\"><span>Visit Store</span></a></div></div><div class=\"menu-box-menu\"><div class=\"d2c-section\"><div class=\"d2c-section-desc\"><img alt=\"Top Rated Seller\" src=\"https://c1.neweggimages.com/WebResource/Themes/Nest/icons/star_seller@2x.png\" width=\"16\"/> <!-- -->Top Rated Seller</div></div></div></span></div><div class=\"item-operate\"><div class=\"item-button-area\"><button class=\"btn btn-primary btn-mini\" title=\"Add LISM GTX960 4G GDDR5 128Bit PC Desktop video card PCI Express 2.0 computer video cards to cart\">Add to cart <i class=\"fas fa-caret-right\"></i></button></div><div class=\"item-compare-box\"><label class=\"form-checkbox\"><input autocomplete=\"off\" type=\"checkbox\"/><span class=\"form-checkbox-title\">Compare</span></label></div></div></div><div class=\"item-stock\" id=\"stock_9SIB601GTS2912\"></div></div></div>\n",
      "Error that occurred: TypeError\n",
      "Error message: 'NoneType' object is not subscriptable\n",
      "Cell where error occurred: <div class=\"item-cell\" id=\"item_cell_9SIB601GMK2764_24_0\"><div class=\"item-container\"><a class=\"item-img\" href=\"https://www.newegg.com/p/27N-0074-00001?Description=graphics cards&amp;cm_re=graphics_cards-_-9SIB601GMK2764-_-Product\"><img alt=\"Graphics Card HD6770 4G DDR5 High Definition Desktop Computer Graphics Card Game Discrete Graphics Card\" src=\"https://c1.neweggimages.com/ProductImageCompressAll300/B601S211125adStL.jpg\" title=\"Graphics Card HD6770 4G DDR5 High Definition Desktop Computer Graphics Card Game Discrete Graphics Card\"/><div class=\"btn btn-large btn-quickview\">Quick View</div><div class=\"item-quick-action-container\"><button class=\"quick-action\"><i class=\"fa fa-heart-outline\"></i></button></div></a><div class=\"item-info\"><div class=\"item-branding\"><a class=\"item-rating\" href=\"https://www.newegg.com/p/27N-0074-00001?IsFeedbackTab=true#scrollFullInfo\" title=\"Rating + 2\"><i aria-label=\"rated 2 out of 5\" class=\"rating rating-2\"></i><span class=\"item-rating-num\">(1)</span></a></div><a class=\"item-title\" href=\"https://www.newegg.com/p/27N-0074-00001?Description=graphics cards&amp;cm_re=graphics_cards-_-9SIB601GMK2764-_-Product\" title=\"View Details\">Graphics Card HD6770 4G DDR5 High Definition Desktop Computer Graphics Card Game Discrete Graphics Card</a><ul class=\"item-features\"><li><strong>Core Clock:</strong> 700 MHz</li><li><strong>DVI:</strong> 1 x DVI</li><li><strong>HDMI:</strong> 1 x HDMI</li><li><strong>DirectX:</strong> DirectX 10</li><li><strong>Model #: </strong>HD6770 4G</li><li><strong>Item #: </strong>9SIB601GMK2764</li><li><strong>Return Policy: </strong><a href=\"https://www.newegg.com/Seller-Store/Mannajue?initialTab=returnPolicy\" target=\"_blank\" title=\"View Return Policy(new window)\">View Return Policy</a></li></ul></div><div class=\"item-action\"><ul class=\"price\"><li class=\"price-was\"></li><li class=\"price-map\"> </li><li class=\"price-current\"><span class=\"price-current-label\"></span>$<strong>99</strong><sup>.99</sup> <span class=\"price-current-range\"><abbr title=\"to\">–</abbr></span></li><li class=\"price-save\"></li><li class=\"price-ship\">Free Shipping</li></ul><div class=\"item-sellers\"><span class=\"menu-box\"><a class=\"menu-box-trigger\"><div class=\"d2c-section-title\"><img alt=\"Direct from LISM\" src=\"https://c1.neweggimages.com/WebResource/Themes/Nest/icons/D2CIcon@1x.png\"/> <span>Direct from LISM</span></div></a><div class=\"menu-box-menu\"><div class=\"d2c-section\"><div class=\"d2c-section-desc\">This product is sold direct from the manufacturer.</div></div></div></span></div><div class=\"item-sellers top-seller\"><span class=\"menu-box\"><div class=\"menu-box-trigger\"><div class=\"d2c-section-title\"><img alt=\"Top Rated Seller\" src=\"https://c1.neweggimages.com/WebResource/Themes/Nest/icons/star_seller@2x.png\" width=\"16\"/><span> Mannajue Store</span><a class=\"link-more\" href=\"https://www.newegg.com/Seller-Store/Mannajue?cm_sp=seller-store-_-from-plp-product-cell\" target=\"_blank\" title=\"Visit Store\"><span>Visit Store</span></a></div></div><div class=\"menu-box-menu\"><div class=\"d2c-section\"><div class=\"d2c-section-desc\"><img alt=\"Top Rated Seller\" src=\"https://c1.neweggimages.com/WebResource/Themes/Nest/icons/star_seller@2x.png\" width=\"16\"/> <!-- -->Top Rated Seller</div></div></div></span></div><div class=\"item-operate\"><div class=\"item-button-area\"><button class=\"btn btn-primary btn-mini\" title=\"Add Graphics Card HD6770 4G DDR5 High Definition Desktop Computer Graphics Card Game Discrete Graphics Card to cart\">Add to cart <i class=\"fas fa-caret-right\"></i></button></div><div class=\"item-compare-box\"><label class=\"form-checkbox\"><input autocomplete=\"off\" type=\"checkbox\"/><span class=\"form-checkbox-title\">Compare</span></label></div></div></div><div class=\"item-stock\" id=\"stock_9SIB601GMK2764\"></div></div></div>\n",
      "Error that occurred: TypeError\n",
      "Error message: 'NoneType' object is not subscriptable\n",
      "Cell where error occurred: <div class=\"item-cell\" id=\"item_cell_9SIB9XKHY27944_14_0\"><div class=\"item-container\"><a class=\"item-img\" href=\"https://www.newegg.com/p/27N-007Y-00010?Description=graphics cards&amp;cm_re=graphics_cards-_-9SIB9XKHY27944-_-Product\"><img alt=\"SAPLOS AMD Radeon R5 230 2GB 64 Bits GDDR3 VGA/DVI/HDMI Computer Graphics Card,PCI-Express 2.0,625MHz Core Frequency Desktop Video Card GPU for PC,Low Profile\" src=\"https://c1.neweggimages.com/ProductImageCompressAll300/B9XKS2206070LABUN03.jpg\" title=\"SAPLOS AMD Radeon R5 230 2GB 64 Bits GDDR3 VGA/DVI/HDMI Computer Graphics Card,PCI-Express 2.0,625MHz Core Frequency Desktop Video Card GPU for PC,Low Profile\"/><div class=\"btn btn-large btn-quickview\">Quick View</div><div class=\"item-quick-action-container\"><button class=\"quick-action\"><i class=\"fa fa-heart-outline\"></i></button></div></a><div class=\"item-info\"><div class=\"item-branding\"></div><a class=\"item-title\" href=\"https://www.newegg.com/p/27N-007Y-00010?Description=graphics cards&amp;cm_re=graphics_cards-_-9SIB9XKHY27944-_-Product\" title=\"View Details\">SAPLOS AMD Radeon R5 230 2GB 64 Bits GDDR3 VGA/DVI/HDMI Computer Graphics Card,PCI-Express 2.0,625MHz Core Frequency Desktop Video Card GPU for PC,Low Profile</a><ul class=\"item-features\"><li><strong>Core Clock:</strong> 625 MHz</li><li><strong>DVI:</strong> 1 x DVI</li><li><strong>HDMI:</strong> 1 x HDMI</li><li><strong>Card Dimensions (L x H):</strong> 5.98in x 0.75in</li><li><strong>Model #: </strong>R5 230-2G</li><li><strong>Item #: </strong>9SIB9XKHY27944</li><li><strong>Return Policy: </strong><a href=\"https://www.newegg.com/Seller-Store/SAPLOS-Global-Store?initialTab=returnPolicy\" target=\"_blank\" title=\"View Return Policy(new window)\">View Return Policy</a></li></ul></div><div class=\"item-action\"><ul class=\"price\"><li class=\"price-was\"></li><li class=\"price-map\"> </li><li class=\"price-current\"><span class=\"price-current-label\"></span>$<strong>69</strong><sup>.99</sup> <span class=\"price-current-range\"><abbr title=\"to\">–</abbr></span></li><li class=\"price-save\"></li><li class=\"price-ship\">Free Shipping</li></ul><div class=\"item-sellers top-seller\"><span class=\"menu-box\"><div class=\"menu-box-trigger\"><div class=\"d2c-section-title\"><span>SAPLOS Global Store</span><a class=\"link-more\" href=\"https://www.newegg.com/Seller-Store/SAPLOS-Global-Store?cm_sp=seller-store-_-from-plp-product-cell\" target=\"_blank\" title=\"Visit Store\"><span>Visit Store</span></a></div></div></span></div><div class=\"item-operate\"><div class=\"item-button-area\"><button class=\"btn btn-primary btn-mini\" title=\"Add SAPLOS AMD Radeon R5 230 2GB 64 Bits GDDR3 VGA/DVI/HDMI Computer Graphics Card,PCI-Express 2.0,625MHz Core Frequency Desktop Video Card GPU for PC,Low Profile to cart\">Add to cart <i class=\"fas fa-caret-right\"></i></button></div><div class=\"item-compare-box\"><label class=\"form-checkbox\"><input autocomplete=\"off\" type=\"checkbox\"/><span class=\"form-checkbox-title\">Compare</span></label></div></div></div><div class=\"item-stock\" id=\"stock_9SIB9XKHY27944\"></div></div></div>\n",
      "Error that occurred: TypeError\n",
      "Error message: 'NoneType' object is not subscriptable\n",
      "Cell where error occurred: <div class=\"item-cell\" id=\"item_cell_9SIB601H8S5688_19_0\"><div class=\"item-container\"><a class=\"item-img\" href=\"https://www.newegg.com/p/27N-0074-00006?Description=graphics cards&amp;cm_re=graphics_cards-_-9SIB601H8S5688-_-Product\"><img alt=\"Desktop GPU Graphics Card  R7 350 2GB GDDR5 128Bit Independent Game Video Card R7-350 for ATI Radeon gaming\" src=\"https://c1.neweggimages.com/ProductImageCompressAll300/B601S220314p0GbC.jpg\" title=\"Desktop GPU Graphics Card  R7 350 2GB GDDR5 128Bit Independent Game Video Card R7-350 for ATI Radeon gaming\"/><div class=\"btn btn-large btn-quickview\">Quick View</div><div class=\"item-quick-action-container\"><button class=\"quick-action\"><i class=\"fa fa-heart-outline\"></i></button></div></a><div class=\"item-info\"><div class=\"item-branding\"></div><a class=\"item-title\" href=\"https://www.newegg.com/p/27N-0074-00006?Description=graphics cards&amp;cm_re=graphics_cards-_-9SIB601H8S5688-_-Product\" title=\"View Details\">Desktop GPU Graphics Card  R7 350 2GB GDDR5 128Bit Independent Game Video Card R7-350 for ATI Radeon gaming</a><p class=\"item-promo\"><i class=\"item-promo-icon\"></i>Limited time offer, ends 06/22</p><ul class=\"item-features\"><li><strong>DisplayPort:</strong> 1*VGA</li><li><strong>DVI:</strong> 1 x DVI</li><li><strong>HDMI:</strong> 1 x HDMI</li><li><strong>DirectX:</strong> DirectX 12</li><li><strong>Model #: </strong>R7 350 2GB</li><li><strong>Item #: </strong>9SIB601H8S5688</li><li><strong>Return Policy: </strong><a href=\"https://www.newegg.com/Seller-Store/Mannajue?initialTab=returnPolicy\" target=\"_blank\" title=\"View Return Policy(new window)\">View Return Policy</a></li></ul></div><div class=\"item-action\"><ul class=\"price\"><li class=\"price-was\"></li><li class=\"price-map\"> </li><li class=\"price-current\"><span class=\"price-current-label\"></span>$<strong>99</strong><sup>.99</sup> <span class=\"price-current-range\"><abbr title=\"to\">–</abbr></span></li><li class=\"price-save\"><span class=\"price-save-endtime\"><strong>Sale Ends in 12 Hours</strong> - </span></li><li class=\"price-ship\">Free Shipping</li></ul><div class=\"item-sellers\"><span class=\"menu-box\"><a class=\"menu-box-trigger\"><div class=\"d2c-section-title\"><img alt=\"Direct from LISM\" src=\"https://c1.neweggimages.com/WebResource/Themes/Nest/icons/D2CIcon@1x.png\"/> <span>Direct from LISM</span></div></a><div class=\"menu-box-menu\"><div class=\"d2c-section\"><div class=\"d2c-section-desc\">This product is sold direct from the manufacturer.</div></div></div></span></div><div class=\"item-sellers top-seller\"><span class=\"menu-box\"><div class=\"menu-box-trigger\"><div class=\"d2c-section-title\"><img alt=\"Top Rated Seller\" src=\"https://c1.neweggimages.com/WebResource/Themes/Nest/icons/star_seller@2x.png\" width=\"16\"/><span> Mannajue Store</span><a class=\"link-more\" href=\"https://www.newegg.com/Seller-Store/Mannajue?cm_sp=seller-store-_-from-plp-product-cell\" target=\"_blank\" title=\"Visit Store\"><span>Visit Store</span></a></div></div><div class=\"menu-box-menu\"><div class=\"d2c-section\"><div class=\"d2c-section-desc\"><img alt=\"Top Rated Seller\" src=\"https://c1.neweggimages.com/WebResource/Themes/Nest/icons/star_seller@2x.png\" width=\"16\"/> <!-- -->Top Rated Seller</div></div></div></span></div><div class=\"item-operate\"><div class=\"item-button-area\"><button class=\"btn btn-primary btn-mini\" title=\"Add Desktop GPU Graphics Card  R7 350 2GB GDDR5 128Bit Independent Game Video Card R7-350 for ATI Radeon gaming to cart\">Add to cart <i class=\"fas fa-caret-right\"></i></button></div><div class=\"item-compare-box\"><label class=\"form-checkbox\"><input autocomplete=\"off\" type=\"checkbox\"/><span class=\"form-checkbox-title\">Compare</span></label></div></div></div><div class=\"item-stock\" id=\"stock_9SIB601H8S5688\"></div></div></div>\n",
      "Error that occurred: TypeError\n",
      "Error message: 'NoneType' object is not subscriptable\n",
      "Cell where error occurred: <div class=\"item-cell\" id=\"item_cell_9SIB601HAJ4518_25_0\"><div class=\"item-container\"><a class=\"item-img\" href=\"https://www.newegg.com/p/27N-0074-00008?Description=graphics cards&amp;cm_re=graphics_cards-_-9SIB601HAJ4518-_-Product\"><img alt=\"Graphics HD7450 2GB GDDR3 64 Bit PCIE 2.0 HDMI-Compatible+VGA+DVI Interface Video Card with Cooling Fan\" src=\"https://c1.neweggimages.com/ProductImageCompressAll300/B601S220318UgT5Y.jpg\" title=\"Graphics HD7450 2GB GDDR3 64 Bit PCIE 2.0 HDMI-Compatible+VGA+DVI Interface Video Card with Cooling Fan\"/><div class=\"btn btn-large btn-quickview\">Quick View</div><div class=\"item-quick-action-container\"><button class=\"quick-action\"><i class=\"fa fa-heart-outline\"></i></button></div></a><div class=\"item-info\"><div class=\"item-branding\"><a class=\"item-rating\" href=\"https://www.newegg.com/p/27N-0074-00008?IsFeedbackTab=true#scrollFullInfo\" title=\"Rating + 4.5\"><i aria-label=\"rated 4.5 out of 5\" class=\"rating rating-4-5\"></i><span class=\"item-rating-num\">(2)</span></a></div><a class=\"item-title\" href=\"https://www.newegg.com/p/27N-0074-00008?Description=graphics cards&amp;cm_re=graphics_cards-_-9SIB601HAJ4518-_-Product\" title=\"View Details\">Graphics HD7450 2GB GDDR3 64 Bit PCIE 2.0 HDMI-Compatible+VGA+DVI Interface Video Card with Cooling Fan</a><p class=\"item-promo\"><i class=\"item-promo-icon\"></i>Limited time offer, ends 06/22</p><ul class=\"item-features\"><li><strong>Core Clock:</strong> 625 MHz</li><li><strong>DisplayPort:</strong> 1 x DisplayPort</li><li><strong>DVI:</strong> 1 x DVI</li><li><strong>HDMI:</strong> 1 x HDMI</li><li><strong>Model #: </strong>NEWHD7450 2GB</li><li><strong>Item #: </strong>9SIB601HAJ4518</li><li><strong>Return Policy: </strong><a href=\"https://www.newegg.com/Seller-Store/Mannajue?initialTab=returnPolicy\" target=\"_blank\" title=\"View Return Policy(new window)\">View Return Policy</a></li></ul></div><div class=\"item-action\"><ul class=\"price\"><li class=\"price-was\"></li><li class=\"price-map\"> </li><li class=\"price-current\"><span class=\"price-current-label\"></span>$<strong>55</strong><sup>.99</sup> <span class=\"price-current-range\"><abbr title=\"to\">–</abbr></span></li><li class=\"price-save\"><span class=\"price-save-endtime\"><strong>Sale Ends in 12 Hours</strong> - </span></li><li class=\"price-ship\">Free Shipping</li></ul><div class=\"item-sellers\"><span class=\"menu-box\"><a class=\"menu-box-trigger\"><div class=\"d2c-section-title\"><img alt=\"Direct from LISM\" src=\"https://c1.neweggimages.com/WebResource/Themes/Nest/icons/D2CIcon@1x.png\"/> <span>Direct from LISM</span></div></a><div class=\"menu-box-menu\"><div class=\"d2c-section\"><div class=\"d2c-section-desc\">This product is sold direct from the manufacturer.</div></div></div></span></div><div class=\"item-sellers top-seller\"><span class=\"menu-box\"><div class=\"menu-box-trigger\"><div class=\"d2c-section-title\"><img alt=\"Top Rated Seller\" src=\"https://c1.neweggimages.com/WebResource/Themes/Nest/icons/star_seller@2x.png\" width=\"16\"/><span> Mannajue Store</span><a class=\"link-more\" href=\"https://www.newegg.com/Seller-Store/Mannajue?cm_sp=seller-store-_-from-plp-product-cell\" target=\"_blank\" title=\"Visit Store\"><span>Visit Store</span></a></div></div><div class=\"menu-box-menu\"><div class=\"d2c-section\"><div class=\"d2c-section-desc\"><img alt=\"Top Rated Seller\" src=\"https://c1.neweggimages.com/WebResource/Themes/Nest/icons/star_seller@2x.png\" width=\"16\"/> <!-- -->Top Rated Seller</div></div></div></span></div><div class=\"item-operate\"><div class=\"item-button-area\"><button class=\"btn btn-primary btn-mini\" title=\"Add Graphics HD7450 2GB GDDR3 64 Bit PCIE 2.0 HDMI-Compatible+VGA+DVI Interface Video Card with Cooling Fan to cart\">Add to cart <i class=\"fas fa-caret-right\"></i></button></div><div class=\"item-compare-box\"><label class=\"form-checkbox\"><input autocomplete=\"off\" type=\"checkbox\"/><span class=\"form-checkbox-title\">Compare</span></label></div></div></div><div class=\"item-stock\" id=\"stock_9SIB601HAJ4518\"></div></div></div>\n",
      "Error that occurred: TypeError\n",
      "Error message: 'NoneType' object is not subscriptable\n",
      "Cell where error occurred: <div class=\"item-cell\" id=\"item_cell_9SIB76SH970139_27_0\"><div class=\"item-container\"><a class=\"item-img\" href=\"https://www.newegg.com/p/27N-0083-00001?Description=graphics cards&amp;cm_re=graphics_cards-_-9SIB76SH970139-_-Product\"><img alt=\"2022 Hot sell High computing power Radeon RX 580 8GB GDDR5 580 8gb Video Card rx 580 sapphire 8gb graphics card\" src=\"https://c1.neweggimages.com/ProductImageCompressAll300/B76SS2203150E6KOGE4.jpg\" title=\"2022 Hot sell High computing power Radeon RX 580 8GB GDDR5 580 8gb Video Card rx 580 sapphire 8gb graphics card\"/><div class=\"btn btn-large btn-quickview\">Quick View</div><div class=\"item-quick-action-container\"><button class=\"quick-action\"><i class=\"fa fa-heart-outline\"></i></button></div></a><div class=\"item-info\"><div class=\"item-branding\"></div><a class=\"item-title\" href=\"https://www.newegg.com/p/27N-0083-00001?Description=graphics cards&amp;cm_re=graphics_cards-_-9SIB76SH970139-_-Product\" title=\"View Details\">2022 Hot sell High computing power Radeon RX 580 8GB GDDR5 580 8gb Video Card rx 580 sapphire 8gb graphics card</a><ul class=\"item-features\"><li><strong>Cooler:</strong> Double Fans</li><li><strong>Model #: </strong>RTX588</li><li><strong>Item #: </strong>9SIB76SH970139</li><li><strong>Return Policy: </strong><a href=\"https://www.newegg.com/Seller-Store/Ashely?initialTab=returnPolicy\" target=\"_blank\" title=\"View Return Policy(new window)\">View Return Policy</a></li></ul></div><div class=\"item-action\"><ul class=\"price\"><li class=\"price-was\"></li><li class=\"price-map\"> </li><li class=\"price-current\"><span class=\"price-current-label\"></span>$<strong>598</strong><sup>.00</sup> <span class=\"price-current-range\"><abbr title=\"to\">–</abbr></span></li><li class=\"price-save\"></li><li class=\"price-ship\">Free Shipping</li></ul><div class=\"item-sellers top-seller\"><span class=\"menu-box\"><div class=\"menu-box-trigger\"><div class=\"d2c-section-title\"><span>Ashely Store</span><a class=\"link-more\" href=\"https://www.newegg.com/Seller-Store/Ashely?cm_sp=seller-store-_-from-plp-product-cell\" target=\"_blank\" title=\"Visit Store\"><span>Visit Store</span></a></div></div></span></div><div class=\"item-operate\"><div class=\"item-button-area\"><button class=\"btn btn-primary btn-mini\" title=\"Add 2022 Hot sell High computing power Radeon RX 580 8GB GDDR5 580 8gb Video Card rx 580 sapphire 8gb graphics card to cart\">Add to cart <i class=\"fas fa-caret-right\"></i></button></div><div class=\"item-compare-box\"><label class=\"form-checkbox\"><input autocomplete=\"off\" type=\"checkbox\"/><span class=\"form-checkbox-title\">Compare</span></label></div></div></div><div class=\"item-stock\" id=\"stock_9SIB76SH970139\"></div></div></div>\n",
      "Error that occurred: TypeError\n",
      "Error message: 'NoneType' object is not subscriptable\n",
      "Cell where error occurred: <div class=\"item-cell\" id=\"item_cell_9SIB9XKHC89067_5_0\"><div class=\"item-container\"><a class=\"item-img\" href=\"https://www.newegg.com/nvidia-geforce-gt-730/p/1FT-00H5-00007?Description=graphics cards&amp;cm_re=graphics_cards-_-9SIB9XKHC89067-_-Product\"><img alt=\"SAPLOS NVIDIA GT 730 Graphics Cards, 2GB, DDR3, 64 Bit, VGA DVI HDMI, Low Profile Video Card for PC, Gaming GPU, Desktop Computer, Save Case Space, Low Power, PCI Express x8, 2K Support\" src=\"https://c1.neweggimages.com/ProductImageCompressAll300/B9XKS2203300FDQ817D.jpg\" title=\"SAPLOS NVIDIA GT 730 Graphics Cards, 2GB, DDR3, 64 Bit, VGA DVI HDMI, Low Profile Video Card for PC, Gaming GPU, Desktop Computer, Save Case Space, Low Power, PCI Express x8, 2K Support\"/><div class=\"btn btn-large btn-quickview\">Quick View</div><div class=\"item-quick-action-container\"><button class=\"quick-action\"><i class=\"fa fa-heart-outline\"></i></button></div></a><div class=\"item-info\"><div class=\"item-branding\"></div><a class=\"item-title\" href=\"https://www.newegg.com/nvidia-geforce-gt-730/p/1FT-00H5-00007?Description=graphics cards&amp;cm_re=graphics_cards-_-9SIB9XKHC89067-_-Product\" title=\"View Details\">SAPLOS NVIDIA GT 730 Graphics Cards, 2GB, DDR3, 64 Bit, VGA DVI HDMI, Low Profile Video Card for PC, Gaming GPU, Desktop Computer, Save Case Space, Low Power, PCI Express x8, 2K Support</a><ul class=\"item-features\"><li><strong>Core Clock:</strong> 902 MHz</li><li><strong>Max Resolution:</strong> 2048 x 1536@60Hz</li><li><strong>DVI:</strong> 1 x DVI</li><li><strong>HDMI:</strong> 1 x HDMI 2.0b</li><li><strong>Model #: </strong>GT730 2G LP</li><li><strong>Item #: </strong>9SIB9XKHC89067</li><li><strong>Return Policy: </strong><a href=\"https://www.newegg.com/Seller-Store/SAPLOS-Global-Store?initialTab=returnPolicy\" target=\"_blank\" title=\"View Return Policy(new window)\">View Return Policy</a></li></ul></div><div class=\"item-action\"><ul class=\"price\"><li class=\"price-was\"></li><li class=\"price-map\"> </li><li class=\"price-current\"><span class=\"price-current-label\"></span>$<strong>85</strong><sup>.99</sup> <span class=\"price-current-range\"><abbr title=\"to\">–</abbr></span></li><li class=\"price-save\"></li><li class=\"price-ship\">Free Shipping</li></ul><div class=\"item-sellers top-seller\"><span class=\"menu-box\"><div class=\"menu-box-trigger\"><div class=\"d2c-section-title\"><span>SAPLOS Global Store</span><a class=\"link-more\" href=\"https://www.newegg.com/Seller-Store/SAPLOS-Global-Store?cm_sp=seller-store-_-from-plp-product-cell\" target=\"_blank\" title=\"Visit Store\"><span>Visit Store</span></a></div></div></span></div><ul class=\"item-buying-choices\"><li><label class=\"item-buying-choices-label\">Volume Discounts:</label><strong class=\"item-buying-choices-price\">$79.99 - $85.99</strong></li></ul><div class=\"item-operate\"><div class=\"item-button-area\"><button class=\"btn btn-primary btn-mini\" title=\"Add SAPLOS NVIDIA GT 730 Graphics Cards, 2GB, DDR3, 64 Bit, VGA DVI HDMI, Low Profile Video Card for PC, Gaming GPU, Desktop Computer, Save Case Space, Low Power, PCI Express x8, 2K Support to cart\">Add to cart <i class=\"fas fa-caret-right\"></i></button></div><div class=\"item-compare-box\"><label class=\"form-checkbox\"><input autocomplete=\"off\" type=\"checkbox\"/><span class=\"form-checkbox-title\">Compare</span></label></div></div></div><div class=\"item-stock\" id=\"stock_9SIB9XKHC89067\"></div></div></div>\n",
      "Error that occurred: TypeError\n",
      "Error message: 'NoneType' object is not subscriptable\n",
      "Cell where error occurred: <div class=\"item-cell\" id=\"item_cell_9SIB9XKHB20861_11_0\"><div class=\"item-container\"><a class=\"item-img\" href=\"https://www.newegg.com/p/1FT-00H5-00004?Description=graphics cards&amp;cm_re=graphics_cards-_-9SIB9XKHB20861-_-Product\"><img alt=\"SAPLOS GTX 1050 Ti Graphics Card 4GB 128 Bits GDDR5 GPU for Gaming PC Computer Video Card DisplayPort/HDMI/DVI Dual Fans PCI Express x16 3.0\" src=\"https://c1.neweggimages.com/ProductImageCompressAll300/B9XKS2203220M8MLY54.jpg\" title=\"SAPLOS GTX 1050 Ti Graphics Card 4GB 128 Bits GDDR5 GPU for Gaming PC Computer Video Card DisplayPort/HDMI/DVI Dual Fans PCI Express x16 3.0\"/><div class=\"btn btn-large btn-quickview\">Quick View</div><div class=\"item-quick-action-container\"><button class=\"quick-action\"><i class=\"fa fa-heart-outline\"></i></button></div></a><div class=\"item-info\"><div class=\"item-branding\"></div><a class=\"item-title\" href=\"https://www.newegg.com/p/1FT-00H5-00004?Description=graphics cards&amp;cm_re=graphics_cards-_-9SIB9XKHB20861-_-Product\" title=\"View Details\">SAPLOS GTX 1050 Ti Graphics Card 4GB 128 Bits GDDR5 GPU for Gaming PC Computer Video Card DisplayPort/HDMI/DVI Dual Fans PCI Express x16 3.0</a><ul class=\"item-features\"><li><strong>Core Clock:</strong> 1291 MHz</li><li><strong>Max Resolution:</strong> 7680 x 4320</li><li><strong>DisplayPort:</strong> 1 x DisplayPort 1.4</li><li><strong>DVI:</strong> 1 x DL-DVI-D</li><li><strong>Model #: </strong>1050 TI New</li><li><strong>Item #: </strong>9SIB9XKHB20861</li><li><strong>Return Policy: </strong><a href=\"https://www.newegg.com/Seller-Store/SAPLOS-Global-Store?initialTab=returnPolicy\" target=\"_blank\" title=\"View Return Policy(new window)\">View Return Policy</a></li></ul></div><div class=\"item-action\"><ul class=\"price\"><li class=\"price-was\"></li><li class=\"price-map\"> </li><li class=\"price-current\"><span class=\"price-current-label\"></span>$<strong>259</strong><sup>.99</sup> <span class=\"price-current-range\"><abbr title=\"to\">–</abbr></span></li><li class=\"price-save\"></li><li class=\"price-ship\">Free Shipping</li></ul><div class=\"item-sellers top-seller\"><span class=\"menu-box\"><div class=\"menu-box-trigger\"><div class=\"d2c-section-title\"><span>SAPLOS Global Store</span><a class=\"link-more\" href=\"https://www.newegg.com/Seller-Store/SAPLOS-Global-Store?cm_sp=seller-store-_-from-plp-product-cell\" target=\"_blank\" title=\"Visit Store\"><span>Visit Store</span></a></div></div></span></div><div class=\"item-operate\"><div class=\"item-button-area\"><button class=\"btn btn-primary btn-mini\" title=\"Add SAPLOS GTX 1050 Ti Graphics Card 4GB 128 Bits GDDR5 GPU for Gaming PC Computer Video Card DisplayPort/HDMI/DVI Dual Fans PCI Express x16 3.0 to cart\">Add to cart <i class=\"fas fa-caret-right\"></i></button></div><div class=\"item-compare-box\"><label class=\"form-checkbox\"><input autocomplete=\"off\" type=\"checkbox\"/><span class=\"form-checkbox-title\">Compare</span></label></div></div></div><div class=\"item-stock\" id=\"stock_9SIB9XKHB20861\"></div></div></div>\n",
      "Error that occurred: TypeError\n",
      "Error message: 'NoneType' object is not subscriptable\n",
      "Cell where error occurred: <div class=\"item-cell\" id=\"item_cell_9SIB601H104048_21_0\"><div class=\"item-container\"><a class=\"item-img\" href=\"https://www.newegg.com/p/1FT-00FX-00023?Description=graphics cards&amp;cm_re=graphics_cards-_-9SIB601H104048-_-Product\"><img alt=\"LISM GTX750Ti 2GB 128Bit GDDR5 Graphic Card Video Card GPU DirectX 12 PCI Express2.0 x16 DVI/VGA/HDMI\" src=\"https://c1.neweggimages.com/ProductImageCompressAll300/B601S220220SS94F.jpg\" title=\"LISM GTX750Ti 2GB 128Bit GDDR5 Graphic Card Video Card GPU DirectX 12 PCI Express2.0 x16 DVI/VGA/HDMI\"/><div class=\"btn btn-large btn-quickview\">Quick View</div><div class=\"item-quick-action-container\"><button class=\"quick-action\"><i class=\"fa fa-heart-outline\"></i></button></div></a><div class=\"item-info\"><div class=\"item-branding\"></div><a class=\"item-title\" href=\"https://www.newegg.com/p/1FT-00FX-00023?Description=graphics cards&amp;cm_re=graphics_cards-_-9SIB601H104048-_-Product\" title=\"View Details\">LISM GTX750Ti 2GB 128Bit GDDR5 Graphic Card Video Card GPU DirectX 12 PCI Express2.0 x16 DVI/VGA/HDMI</a><p class=\"item-promo\"><i class=\"item-promo-icon\"></i>Limited time offer, ends 06/22</p><ul class=\"item-features\"><li><strong>Core Clock:</strong> 928HMz</li><li><strong>Max Resolution:</strong> 1928*1080</li><li><strong>DisplayPort:</strong> 1 x DisplayPort</li><li><strong>DVI:</strong> 1 x DVI</li><li><strong>Model #: </strong>NEW750ti2GB</li><li><strong>Item #: </strong>9SIB601H104048</li><li><strong>Return Policy: </strong><a href=\"https://www.newegg.com/Seller-Store/Mannajue?initialTab=returnPolicy\" target=\"_blank\" title=\"View Return Policy(new window)\">View Return Policy</a></li></ul></div><div class=\"item-action\"><ul class=\"price\"><li class=\"price-was\"></li><li class=\"price-map\"> </li><li class=\"price-current\"><span class=\"price-current-label\"></span>$<strong>134</strong><sup>.99</sup> <span class=\"price-current-range\"><abbr title=\"to\">–</abbr></span></li><li class=\"price-save\"><span class=\"price-save-endtime\"><strong>Sale Ends in 12 Hours</strong> - </span></li><li class=\"price-ship\">Free Shipping</li></ul><div class=\"item-sellers\"><span class=\"menu-box\"><a class=\"menu-box-trigger\"><div class=\"d2c-section-title\"><img alt=\"Direct from LISM\" src=\"https://c1.neweggimages.com/WebResource/Themes/Nest/icons/D2CIcon@1x.png\"/> <span>Direct from LISM</span></div></a><div class=\"menu-box-menu\"><div class=\"d2c-section\"><div class=\"d2c-section-desc\">This product is sold direct from the manufacturer.</div></div></div></span></div><div class=\"item-sellers top-seller\"><span class=\"menu-box\"><div class=\"menu-box-trigger\"><div class=\"d2c-section-title\"><img alt=\"Top Rated Seller\" src=\"https://c1.neweggimages.com/WebResource/Themes/Nest/icons/star_seller@2x.png\" width=\"16\"/><span> Mannajue Store</span><a class=\"link-more\" href=\"https://www.newegg.com/Seller-Store/Mannajue?cm_sp=seller-store-_-from-plp-product-cell\" target=\"_blank\" title=\"Visit Store\"><span>Visit Store</span></a></div></div><div class=\"menu-box-menu\"><div class=\"d2c-section\"><div class=\"d2c-section-desc\"><img alt=\"Top Rated Seller\" src=\"https://c1.neweggimages.com/WebResource/Themes/Nest/icons/star_seller@2x.png\" width=\"16\"/> <!-- -->Top Rated Seller</div></div></div></span></div><div class=\"item-operate\"><div class=\"item-button-area\"><button class=\"btn btn-primary btn-mini\" title=\"Add LISM GTX750Ti 2GB 128Bit GDDR5 Graphic Card Video Card GPU DirectX 12 PCI Express2.0 x16 DVI/VGA/HDMI to cart\">Add to cart <i class=\"fas fa-caret-right\"></i></button></div><div class=\"item-compare-box\"><label class=\"form-checkbox\"><input autocomplete=\"off\" type=\"checkbox\"/><span class=\"form-checkbox-title\">Compare</span></label></div></div></div><div class=\"item-stock\" id=\"stock_9SIB601H104048\"></div></div></div>\n",
      "Error that occurred: TypeError\n",
      "Error message: 'NoneType' object is not subscriptable\n",
      "Cell where error occurred: <div class=\"item-cell\" id=\"item_cell_9SIB601H8T4017_30_0\"><div class=\"item-container\"><a class=\"item-img\" href=\"https://www.newegg.com/p/27N-0074-00007?Description=graphics cards&amp;cm_re=graphics_cards-_-9SIB601H8T4017-_-Product\"><img alt=\"HD 6770 Graphics card 1 GB 6700 series Video Card hd6750 non HD 7870 7850 7770 Graphics cards for pc\" src=\"https://c1.neweggimages.com/ProductImageCompressAll300/B601S2203147K4AR.jpg\" title=\"HD 6770 Graphics card 1 GB 6700 series Video Card hd6750 non HD 7870 7850 7770 Graphics cards for pc\"/><div class=\"btn btn-large btn-quickview\">Quick View</div><div class=\"item-quick-action-container\"><button class=\"quick-action\"><i class=\"fa fa-heart-outline\"></i></button></div></a><div class=\"item-info\"><div class=\"item-branding\"></div><a class=\"item-title\" href=\"https://www.newegg.com/p/27N-0074-00007?Description=graphics cards&amp;cm_re=graphics_cards-_-9SIB601H8T4017-_-Product\" title=\"View Details\">HD 6770 Graphics card 1 GB 6700 series Video Card hd6750 non HD 7870 7850 7770 Graphics cards for pc</a><p class=\"item-promo\"><i class=\"item-promo-icon\"></i>Limited time offer, ends 06/22</p><ul class=\"item-features\"><li><strong>DisplayPort:</strong> 1*VGA</li><li><strong>DVI:</strong> 1 x DVI</li><li><strong>HDMI:</strong> 1 x HDMI</li><li><strong>DirectX:</strong> DirectX 10</li><li><strong>Model #: </strong>6770 1G</li><li><strong>Item #: </strong>9SIB601H8T4017</li><li><strong>Return Policy: </strong><a href=\"https://www.newegg.com/Seller-Store/Mannajue?initialTab=returnPolicy\" target=\"_blank\" title=\"View Return Policy(new window)\">View Return Policy</a></li></ul></div><div class=\"item-action\"><ul class=\"price\"><li class=\"price-was\"></li><li class=\"price-map\"> </li><li class=\"price-current\"><span class=\"price-current-label\"></span>$<strong>79</strong><sup>.99</sup> <span class=\"price-current-range\"><abbr title=\"to\">–</abbr></span></li><li class=\"price-save\"><span class=\"price-save-endtime\"><strong>Sale Ends in 12 Hours</strong> - </span></li><li class=\"price-ship\">Free Shipping</li></ul><div class=\"item-sellers\"><span class=\"menu-box\"><a class=\"menu-box-trigger\"><div class=\"d2c-section-title\"><img alt=\"Direct from LISM\" src=\"https://c1.neweggimages.com/WebResource/Themes/Nest/icons/D2CIcon@1x.png\"/> <span>Direct from LISM</span></div></a><div class=\"menu-box-menu\"><div class=\"d2c-section\"><div class=\"d2c-section-desc\">This product is sold direct from the manufacturer.</div></div></div></span></div><div class=\"item-sellers top-seller\"><span class=\"menu-box\"><div class=\"menu-box-trigger\"><div class=\"d2c-section-title\"><img alt=\"Top Rated Seller\" src=\"https://c1.neweggimages.com/WebResource/Themes/Nest/icons/star_seller@2x.png\" width=\"16\"/><span> Mannajue Store</span><a class=\"link-more\" href=\"https://www.newegg.com/Seller-Store/Mannajue?cm_sp=seller-store-_-from-plp-product-cell\" target=\"_blank\" title=\"Visit Store\"><span>Visit Store</span></a></div></div><div class=\"menu-box-menu\"><div class=\"d2c-section\"><div class=\"d2c-section-desc\"><img alt=\"Top Rated Seller\" src=\"https://c1.neweggimages.com/WebResource/Themes/Nest/icons/star_seller@2x.png\" width=\"16\"/> <!-- -->Top Rated Seller</div></div></div></span></div><div class=\"item-operate\"><div class=\"item-button-area\"><button class=\"btn btn-primary btn-mini\" title=\"Add HD 6770 Graphics card 1 GB 6700 series Video Card hd6750 non HD 7870 7850 7770 Graphics cards for pc to cart\">Add to cart <i class=\"fas fa-caret-right\"></i></button></div><div class=\"item-compare-box\"><label class=\"form-checkbox\"><input autocomplete=\"off\" type=\"checkbox\"/><span class=\"form-checkbox-title\">Compare</span></label></div></div></div><div class=\"item-stock\" id=\"stock_9SIB601H8T4017\"></div></div></div>\n",
      "Error that occurred: TypeError\n",
      "Error message: 'NoneType' object is not subscriptable\n",
      "Cell where error occurred: <div class=\"item-cell\" id=\"item_cell_9SIB9XKHB80650_3_0\"><div class=\"item-container\"><a class=\"item-img\" href=\"https://www.newegg.com/p/1FT-00H5-00005?Description=graphics cards&amp;cm_re=graphics_cards-_-9SIB9XKHB80650-_-Product\"><img alt=\"SAPLOS NVIDIA GT 1030 2GB Graphics Card GDDR5 64-bit ITX Design Video Card DVI-D/HDMI Computer GPU for PC Gaming 4K Support\" src=\"https://c1.neweggimages.com/ProductImageCompressAll300/B9XKS2203230DY8E051.jpg\" title=\"SAPLOS NVIDIA GT 1030 2GB Graphics Card GDDR5 64-bit ITX Design Video Card DVI-D/HDMI Computer GPU for PC Gaming 4K Support\"/><div class=\"btn btn-large btn-quickview\">Quick View</div><div class=\"item-quick-action-container\"><button class=\"quick-action\"><i class=\"fa fa-heart-outline\"></i></button></div></a><div class=\"item-info\"><div class=\"item-branding\"></div><a class=\"item-title\" href=\"https://www.newegg.com/p/1FT-00H5-00005?Description=graphics cards&amp;cm_re=graphics_cards-_-9SIB9XKHB80650-_-Product\" title=\"View Details\">SAPLOS NVIDIA GT 1030 2GB Graphics Card GDDR5 64-bit ITX Design Video Card DVI-D/HDMI Computer GPU for PC Gaming 4K Support</a><ul class=\"item-features\"><li><strong>Model #: </strong>GT1030 2G NEW</li><li><strong>Item #: </strong>9SIB9XKHB80650</li><li><strong>Return Policy: </strong><a href=\"https://www.newegg.com/Seller-Store/SAPLOS-Global-Store?initialTab=returnPolicy\" target=\"_blank\" title=\"View Return Policy(new window)\">View Return Policy</a></li></ul></div><div class=\"item-action\"><ul class=\"price\"><li class=\"price-was\"></li><li class=\"price-map\"> </li><li class=\"price-current\"><span class=\"price-current-label\"></span>$<strong>129</strong><sup>.99</sup> <span class=\"price-current-range\"><abbr title=\"to\">–</abbr></span></li><li class=\"price-save\"></li><li class=\"price-ship\">Free Shipping</li></ul><div class=\"item-sellers top-seller\"><span class=\"menu-box\"><div class=\"menu-box-trigger\"><div class=\"d2c-section-title\"><span>SAPLOS Global Store</span><a class=\"link-more\" href=\"https://www.newegg.com/Seller-Store/SAPLOS-Global-Store?cm_sp=seller-store-_-from-plp-product-cell\" target=\"_blank\" title=\"Visit Store\"><span>Visit Store</span></a></div></div></span></div><div class=\"item-operate\"><div class=\"item-button-area\"><button class=\"btn btn-primary btn-mini\" title=\"Add SAPLOS NVIDIA GT 1030 2GB Graphics Card GDDR5 64-bit ITX Design Video Card DVI-D/HDMI Computer GPU for PC Gaming 4K Support to cart\">Add to cart <i class=\"fas fa-caret-right\"></i></button></div><div class=\"item-compare-box\"><label class=\"form-checkbox\"><input autocomplete=\"off\" type=\"checkbox\"/><span class=\"form-checkbox-title\">Compare</span></label></div></div></div><div class=\"item-stock\" id=\"stock_9SIB9XKHB80650\"></div></div></div>\n",
      "Error that occurred: TypeError\n",
      "Error message: 'NoneType' object is not subscriptable\n",
      "Cell where error occurred: <div class=\"item-cell\" id=\"item_cell_9SIB9XKHB81555_4_0\"><div class=\"item-container\"><a class=\"item-img\" href=\"https://www.newegg.com/nvidia-geforce-gt-730/p/1FT-00H5-00006?Description=graphics cards&amp;cm_re=graphics_cards-_-9SIB9XKHB81555-_-Product\"><img alt=\"SAPLOS NVIDIA GT 730 Graphics Cards 4GB DDR3 128 Bit VGA DVI HDMI Low Profile Video Card for PC Gaming GPU Desktop Computer Save Case Space Low Power PCI Express x16 2K Support\" src=\"https://c1.neweggimages.com/ProductImageCompressAll300/B9XKS2203230E411G02.jpg\" title=\"SAPLOS NVIDIA GT 730 Graphics Cards 4GB DDR3 128 Bit VGA DVI HDMI Low Profile Video Card for PC Gaming GPU Desktop Computer Save Case Space Low Power PCI Express x16 2K Support\"/><div class=\"btn btn-large btn-quickview\">Quick View</div><div class=\"item-quick-action-container\"><button class=\"quick-action\"><i class=\"fa fa-heart-outline\"></i></button></div></a><div class=\"item-info\"><div class=\"item-branding\"></div><a class=\"item-title\" href=\"https://www.newegg.com/nvidia-geforce-gt-730/p/1FT-00H5-00006?Description=graphics cards&amp;cm_re=graphics_cards-_-9SIB9XKHB81555-_-Product\" title=\"View Details\">SAPLOS NVIDIA GT 730 Graphics Cards 4GB DDR3 128 Bit VGA DVI HDMI Low Profile Video Card for PC Gaming GPU Desktop Computer Save Case Space Low Power PCI Express x16 2K Support</a><ul class=\"item-features\"><li><strong>Core Clock:</strong> 700 MHz</li><li><strong>Max Resolution:</strong> 2048 x 1536@60Hz</li><li><strong>DVI:</strong> 1 x DVI</li><li><strong>HDMI:</strong> 1 x HDMI</li><li><strong>Model #: </strong>GT 730 4G-NEW</li><li><strong>Item #: </strong>9SIB9XKHB81555</li><li><strong>Return Policy: </strong><a href=\"https://www.newegg.com/Seller-Store/SAPLOS-Global-Store?initialTab=returnPolicy\" target=\"_blank\" title=\"View Return Policy(new window)\">View Return Policy</a></li></ul></div><div class=\"item-action\"><ul class=\"price\"><li class=\"price-was\"></li><li class=\"price-map\"> </li><li class=\"price-current\"><span class=\"price-current-label\"></span>$<strong>99</strong><sup>.99</sup> <span class=\"price-current-range\"><abbr title=\"to\">–</abbr></span></li><li class=\"price-save\"></li><li class=\"price-ship\">Free Shipping</li></ul><div class=\"item-sellers top-seller\"><span class=\"menu-box\"><div class=\"menu-box-trigger\"><div class=\"d2c-section-title\"><span>SAPLOS Global Store</span><a class=\"link-more\" href=\"https://www.newegg.com/Seller-Store/SAPLOS-Global-Store?cm_sp=seller-store-_-from-plp-product-cell\" target=\"_blank\" title=\"Visit Store\"><span>Visit Store</span></a></div></div></span></div><div class=\"item-operate\"><div class=\"item-button-area\"><button class=\"btn btn-primary btn-mini\" title=\"Add SAPLOS NVIDIA GT 730 Graphics Cards 4GB DDR3 128 Bit VGA DVI HDMI Low Profile Video Card for PC Gaming GPU Desktop Computer Save Case Space Low Power PCI Express x16 2K Support to cart\">Add to cart <i class=\"fas fa-caret-right\"></i></button></div><div class=\"item-compare-box\"><label class=\"form-checkbox\"><input autocomplete=\"off\" type=\"checkbox\"/><span class=\"form-checkbox-title\">Compare</span></label></div></div></div><div class=\"item-stock\" id=\"stock_9SIB9XKHB81555\"></div></div></div>\n",
      "Error that occurred: TypeError\n",
      "Error message: 'NoneType' object is not subscriptable\n",
      "Cell where error occurred: <div class=\"item-cell\" id=\"item_cell_9SIB9XKHB79864_18_0\"><div class=\"item-container\"><a class=\"item-img\" href=\"https://www.newegg.com/p/27N-007Y-00007?Description=graphics cards&amp;cm_re=graphics_cards-_-9SIB9XKHB79864-_-Product\"><img alt=\"SAPLOS Radeon RX 550 Low Profile Graphics Card, 4GB, GDDR5, 128-bit, VGA DVI-D HDMI, Video Card for PC Gaming, 4K Display, Computer GPU, for Desktop SFF Small Form Factor, DirectX 12, Low Power\" src=\"https://c1.neweggimages.com/ProductImageCompressAll300/B9XKS2203230DK49E63.jpg\" title=\"SAPLOS Radeon RX 550 Low Profile Graphics Card, 4GB, GDDR5, 128-bit, VGA DVI-D HDMI, Video Card for PC Gaming, 4K Display, Computer GPU, for Desktop SFF Small Form Factor, DirectX 12, Low Power\"/><div class=\"btn btn-large btn-quickview\">Quick View</div><div class=\"item-quick-action-container\"><button class=\"quick-action\"><i class=\"fa fa-heart-outline\"></i></button></div></a><div class=\"item-info\"><div class=\"item-branding\"></div><a class=\"item-title\" href=\"https://www.newegg.com/p/27N-007Y-00007?Description=graphics cards&amp;cm_re=graphics_cards-_-9SIB9XKHB79864-_-Product\" title=\"View Details\">SAPLOS Radeon RX 550 Low Profile Graphics Card, 4GB, GDDR5, 128-bit, VGA DVI-D HDMI, Video Card for PC Gaming, 4K Display, Computer GPU, for Desktop SFF Small Form Factor, DirectX 12, Low Power</a><ul class=\"item-features\"><li><strong>Model #: </strong>RX 550 4G LP NEW</li><li><strong>Item #: </strong>9SIB9XKHB79864</li><li><strong>Return Policy: </strong><a href=\"https://www.newegg.com/Seller-Store/SAPLOS-Global-Store?initialTab=returnPolicy\" target=\"_blank\" title=\"View Return Policy(new window)\">View Return Policy</a></li></ul></div><div class=\"item-action\"><ul class=\"price\"><li class=\"price-was\"></li><li class=\"price-map\"> </li><li class=\"price-current\"><span class=\"price-current-label\"></span>$<strong>169</strong><sup>.99</sup> <span class=\"price-current-range\"><abbr title=\"to\">–</abbr></span></li><li class=\"price-save\"></li><li class=\"price-ship\">Free Shipping</li></ul><div class=\"item-sellers top-seller\"><span class=\"menu-box\"><div class=\"menu-box-trigger\"><div class=\"d2c-section-title\"><span>SAPLOS Global Store</span><a class=\"link-more\" href=\"https://www.newegg.com/Seller-Store/SAPLOS-Global-Store?cm_sp=seller-store-_-from-plp-product-cell\" target=\"_blank\" title=\"Visit Store\"><span>Visit Store</span></a></div></div></span></div><div class=\"item-operate\"><div class=\"item-button-area\"><button class=\"btn btn-primary btn-mini\" title=\"Add SAPLOS Radeon RX 550 Low Profile Graphics Card, 4GB, GDDR5, 128-bit, VGA DVI-D HDMI, Video Card for PC Gaming, 4K Display, Computer GPU, for Desktop SFF Small Form Factor, DirectX 12, Low Power to cart\">Add to cart <i class=\"fas fa-caret-right\"></i></button></div><div class=\"item-compare-box\"><label class=\"form-checkbox\"><input autocomplete=\"off\" type=\"checkbox\"/><span class=\"form-checkbox-title\">Compare</span></label></div></div></div><div class=\"item-stock\" id=\"stock_9SIB9XKHB79864\"></div></div></div>\n",
      "Error that occurred: TypeError\n",
      "Error message: 'NoneType' object is not subscriptable\n",
      "Cell where error occurred: <div class=\"item-cell\" id=\"item_cell_9SIB601H059739_24_0\"><div class=\"item-container\"><a class=\"item-img\" href=\"https://www.newegg.com/p/1FT-00FX-00021?Description=graphics cards&amp;cm_re=graphics_cards-_-9SIB601H059739-_-Product\"><img alt=\"LISM GeForce GTX780Ti 4GB GDDR5 256bit/ PCI Express 2.0 x12 desktop graphics cards low profile Standard ATX Video Card HDMI+DVI+DP(limited edition)\" src=\"https://c1.neweggimages.com/ProductImageCompressAll300/B601S220215AylII.jpg\" title=\"LISM GeForce GTX780Ti 4GB GDDR5 256bit/ PCI Express 2.0 x12 desktop graphics cards low profile Standard ATX Video Card HDMI+DVI+DP(limited edition)\"/><div class=\"btn btn-large btn-quickview\">Quick View</div><div class=\"item-quick-action-container\"><button class=\"quick-action\"><i class=\"fa fa-heart-outline\"></i></button></div></a><div class=\"item-info\"><div class=\"item-branding\"></div><a class=\"item-title\" href=\"https://www.newegg.com/p/1FT-00FX-00021?Description=graphics cards&amp;cm_re=graphics_cards-_-9SIB601H059739-_-Product\" title=\"View Details\">LISM GeForce GTX780Ti 4GB GDDR5 256bit/ PCI Express 2.0 x12 desktop graphics cards low profile Standard ATX Video Card HDMI+DVI+DP(limited edition)</a><p class=\"item-promo\"><i class=\"item-promo-icon\"></i>Limited time offer, ends 06/22</p><ul class=\"item-features\"><li><strong>Core Clock:</strong> 863 MHz</li><li><strong>Max Resolution:</strong> 2560 x 1400</li><li><strong>DisplayPort:</strong> 1 x DisplayPort</li><li><strong>DVI:</strong> 1 x DVI</li><li><strong>Model #: </strong>NEW780ti4GB</li><li><strong>Item #: </strong>9SIB601H059739</li><li><strong>Return Policy: </strong><a href=\"https://www.newegg.com/Seller-Store/Mannajue?initialTab=returnPolicy\" target=\"_blank\" title=\"View Return Policy(new window)\">View Return Policy</a></li></ul></div><div class=\"item-action\"><ul class=\"price\"><li class=\"price-was\"></li><li class=\"price-map\"> </li><li class=\"price-current\"><span class=\"price-current-label\"></span>$<strong>199</strong><sup>.99</sup> <span class=\"price-current-range\"><abbr title=\"to\">–</abbr></span></li><li class=\"price-save\"><span class=\"price-save-endtime\"><strong>Sale Ends in 12 Hours</strong> - </span></li><li class=\"price-ship\">Free Shipping</li></ul><div class=\"item-sellers\"><span class=\"menu-box\"><a class=\"menu-box-trigger\"><div class=\"d2c-section-title\"><img alt=\"Direct from LISM\" src=\"https://c1.neweggimages.com/WebResource/Themes/Nest/icons/D2CIcon@1x.png\"/> <span>Direct from LISM</span></div></a><div class=\"menu-box-menu\"><div class=\"d2c-section\"><div class=\"d2c-section-desc\">This product is sold direct from the manufacturer.</div></div></div></span></div><div class=\"item-sellers top-seller\"><span class=\"menu-box\"><div class=\"menu-box-trigger\"><div class=\"d2c-section-title\"><img alt=\"Top Rated Seller\" src=\"https://c1.neweggimages.com/WebResource/Themes/Nest/icons/star_seller@2x.png\" width=\"16\"/><span> Mannajue Store</span><a class=\"link-more\" href=\"https://www.newegg.com/Seller-Store/Mannajue?cm_sp=seller-store-_-from-plp-product-cell\" target=\"_blank\" title=\"Visit Store\"><span>Visit Store</span></a></div></div><div class=\"menu-box-menu\"><div class=\"d2c-section\"><div class=\"d2c-section-desc\"><img alt=\"Top Rated Seller\" src=\"https://c1.neweggimages.com/WebResource/Themes/Nest/icons/star_seller@2x.png\" width=\"16\"/> <!-- -->Top Rated Seller</div></div></div></span></div><div class=\"item-operate\"><div class=\"item-button-area\"><button class=\"btn btn-primary btn-mini\" title=\"Add LISM GeForce GTX780Ti 4GB GDDR5 256bit/ PCI Express 2.0 x12 desktop graphics cards low profile Standard ATX Video Card HDMI+DVI+DP(limited edition) to cart\">Add to cart <i class=\"fas fa-caret-right\"></i></button></div><div class=\"item-compare-box\"><label class=\"form-checkbox\"><input autocomplete=\"off\" type=\"checkbox\"/><span class=\"form-checkbox-title\">Compare</span></label></div></div></div><div class=\"item-stock\" id=\"stock_9SIB601H059739\"></div></div></div>\n",
      "Error that occurred: TypeError\n",
      "Error message: 'NoneType' object is not subscriptable\n",
      "Cell where error occurred: <div class=\"item-cell\" id=\"item_cell_9SIAZRPEWA9753_5_0\"><div class=\"item-container\"><a class=\"item-img\" href=\"https://www.newegg.com/p/30U-00AW-00012?Description=graphics cards&amp;cm_re=graphics_cards-_-30U-00AW-00012-_-Product\"><img alt=\"Gigabyte GeForce GT 710 1GB Graphic Cards and Support PCI Express 2.0 X8 Bus Interface. Graphic Cards GV-N710D5-1GL REV2.0\" src=\"https://c1.neweggimages.com/ProductImageCompressAll300/ANZMS200910iclCU.jpg\" title=\"Gigabyte GeForce GT 710 1GB Graphic Cards and Support PCI Express 2.0 X8 Bus Interface. Graphic Cards GV-N710D5-1GL REV2.0\"/><div class=\"btn btn-large btn-quickview\">Quick View</div><div class=\"item-quick-action-container\"><button class=\"quick-action\"><i class=\"fa fa-heart-outline\"></i></button></div></a><div class=\"item-info\"><div class=\"item-branding\"></div><a class=\"item-title\" href=\"https://www.newegg.com/p/30U-00AW-00012?Description=graphics cards&amp;cm_re=graphics_cards-_-30U-00AW-00012-_-Product\" title=\"View Details\">Gigabyte GeForce GT 710 1GB Graphic Cards and Support PCI Express 2.0 X8 Bus Interface. Graphic Cards GV-N710D5-1GL REV2.0</a><ul class=\"item-features\"><li><strong>Model #: </strong>20200911003CNJM</li><li><strong>Return Policy: </strong><a href=\"https://www.newegg.com/Seller-Store/Jinghui-Technology?initialTab=returnPolicy\" target=\"_blank\" title=\"View Return Policy(new window)\">View Return Policy</a></li></ul></div><div class=\"item-action\"><ul class=\"price\"><li class=\"price-was\"></li><li class=\"price-map\"> </li><li class=\"price-current\"><span class=\"price-current-label\"></span>$<strong>59</strong><sup>.99</sup> <a class=\"price-current-num\" href=\"https://www.newegg.com/p/30U-00AW-00012?Item=9SIAZRPEWA9753&amp;Description=graphics+cards&amp;buyingoptions=New\">(4 Offers)</a><span class=\"price-current-range\"><abbr title=\"to\">–</abbr></span></li><li class=\"price-save\"></li><li class=\"price-ship\">Free Shipping</li></ul><div class=\"item-sellers top-seller\"><span class=\"menu-box\"><div class=\"menu-box-trigger\"><div class=\"d2c-section-title\"><span>Jinghui Technology Store</span><a class=\"link-more\" href=\"https://www.newegg.com/Seller-Store/Jinghui-Technology?cm_sp=seller-store-_-from-plp-product-cell\" target=\"_blank\" title=\"Visit Store\"><span>Visit Store</span></a></div></div></span></div><div class=\"item-operate\"><div class=\"item-button-area\"><button class=\"btn btn-mini\" title=\"View Details \">View Details <i class=\"fas fa-caret-right\"></i></button></div><div class=\"item-compare-box\"><label class=\"form-checkbox\"><input autocomplete=\"off\" type=\"checkbox\"/><span class=\"form-checkbox-title\">Compare</span></label></div></div></div><div class=\"item-stock\" id=\"stock_9SIAZRPEWA9753\"></div></div></div>\n",
      "Error that occurred: TypeError\n",
      "Error message: 'NoneType' object is not subscriptable\n",
      "Cell where error occurred: <div class=\"item-cell\" id=\"item_cell_9SIB601GWR7787_12_0\"><div class=\"item-container\"><a class=\"item-img\" href=\"https://www.newegg.com/p/1FT-00FX-00019?Description=graphics cards&amp;cm_re=graphics_cards-_-9SIB601GWR7787-_-Product\"><img alt=\"LISM Graphics Card GTX 750 4GB 128Bit 5012mhz GDDR5 video card VGA Cards For  Geforce Game stronger than R7 350 2GB\" src=\"https://c1.neweggimages.com/ProductImageCompressAll300/B601S220126ALKIW.jpg\" title=\"LISM Graphics Card GTX 750 4GB 128Bit 5012mhz GDDR5 video card VGA Cards For  Geforce Game stronger than R7 350 2GB\"/><div class=\"btn btn-large btn-quickview\">Quick View</div><div class=\"item-quick-action-container\"><button class=\"quick-action\"><i class=\"fa fa-heart-outline\"></i></button></div></a><div class=\"item-info\"><div class=\"item-branding\"></div><a class=\"item-title\" href=\"https://www.newegg.com/p/1FT-00FX-00019?Description=graphics cards&amp;cm_re=graphics_cards-_-9SIB601GWR7787-_-Product\" title=\"View Details\">LISM Graphics Card GTX 750 4GB 128Bit 5012mhz GDDR5 video card VGA Cards For  Geforce Game stronger than R7 350 2GB</a><p class=\"item-promo\"><i class=\"item-promo-icon\"></i>Limited time offer, ends 06/22</p><ul class=\"item-features\"><li><strong>Core Clock:</strong> 1020 MHz</li><li><strong>DVI:</strong> 1 x DVI</li><li><strong>DirectX:</strong> DirectX 12</li><li><strong>Chipset Manufacturer:</strong> NVIDIA</li><li><strong>Model #: </strong>GTX 750 4GB</li><li><strong>Item #: </strong>9SIB601GWR7787</li><li><strong>Return Policy: </strong><a href=\"https://www.newegg.com/Seller-Store/Mannajue?initialTab=returnPolicy\" target=\"_blank\" title=\"View Return Policy(new window)\">View Return Policy</a></li></ul></div><div class=\"item-action\"><ul class=\"price\"><li class=\"price-was\"></li><li class=\"price-map\"> </li><li class=\"price-current\"><span class=\"price-current-label\"></span>$<strong>159</strong><sup>.99</sup> <span class=\"price-current-range\"><abbr title=\"to\">–</abbr></span></li><li class=\"price-save\"><span class=\"price-save-endtime\"><strong>Sale Ends in 12 Hours</strong> - </span></li><li class=\"price-ship\">Free Shipping</li></ul><div class=\"item-sellers\"><span class=\"menu-box\"><a class=\"menu-box-trigger\"><div class=\"d2c-section-title\"><img alt=\"Direct from LISM\" src=\"https://c1.neweggimages.com/WebResource/Themes/Nest/icons/D2CIcon@1x.png\"/> <span>Direct from LISM</span></div></a><div class=\"menu-box-menu\"><div class=\"d2c-section\"><div class=\"d2c-section-desc\">This product is sold direct from the manufacturer.</div></div></div></span></div><div class=\"item-sellers top-seller\"><span class=\"menu-box\"><div class=\"menu-box-trigger\"><div class=\"d2c-section-title\"><img alt=\"Top Rated Seller\" src=\"https://c1.neweggimages.com/WebResource/Themes/Nest/icons/star_seller@2x.png\" width=\"16\"/><span> Mannajue Store</span><a class=\"link-more\" href=\"https://www.newegg.com/Seller-Store/Mannajue?cm_sp=seller-store-_-from-plp-product-cell\" target=\"_blank\" title=\"Visit Store\"><span>Visit Store</span></a></div></div><div class=\"menu-box-menu\"><div class=\"d2c-section\"><div class=\"d2c-section-desc\"><img alt=\"Top Rated Seller\" src=\"https://c1.neweggimages.com/WebResource/Themes/Nest/icons/star_seller@2x.png\" width=\"16\"/> <!-- -->Top Rated Seller</div></div></div></span></div><div class=\"item-operate\"><div class=\"item-button-area\"><button class=\"btn btn-primary btn-mini\" title=\"Add LISM Graphics Card GTX 750 4GB 128Bit 5012mhz GDDR5 video card VGA Cards For  Geforce Game stronger than R7 350 2GB to cart\">Add to cart <i class=\"fas fa-caret-right\"></i></button></div><div class=\"item-compare-box\"><label class=\"form-checkbox\"><input autocomplete=\"off\" type=\"checkbox\"/><span class=\"form-checkbox-title\">Compare</span></label></div></div></div><div class=\"item-stock\" id=\"stock_9SIB601GWR7787\"></div></div></div>\n",
      "Error that occurred: TypeError\n",
      "Error message: 'NoneType' object is not subscriptable\n",
      "Cell where error occurred: <div class=\"item-cell\" id=\"item_cell_9SIB601GMK3372_15_0\"><div class=\"item-container\"><a class=\"item-img\" href=\"https://www.newegg.com/p/27N-0074-00002?Description=graphics cards&amp;cm_re=graphics_cards-_-9SIB601GMK3372-_-Product\"><img alt=\"Graphics HD7450 2GB GDDR3 64 Bit PCIE 2.0 HDMI-Compatible+VGA+DVI Interface Video Card with Cooling Fan\" src=\"https://c1.neweggimages.com/ProductImageCompressAll300/B601S220215kl9Sh.jpg\" title=\"Graphics HD7450 2GB GDDR3 64 Bit PCIE 2.0 HDMI-Compatible+VGA+DVI Interface Video Card with Cooling Fan\"/><div class=\"btn btn-large btn-quickview\">Quick View</div><div class=\"item-quick-action-container\"><button class=\"quick-action\"><i class=\"fa fa-heart-outline\"></i></button></div></a><div class=\"item-info\"><div class=\"item-branding\"><a class=\"item-rating\" href=\"https://www.newegg.com/p/27N-0074-00002?IsFeedbackTab=true#scrollFullInfo\" title=\"Rating + 2\"><i aria-label=\"rated 2 out of 5\" class=\"rating rating-2\"></i><span class=\"item-rating-num\">(1)</span></a></div><a class=\"item-title\" href=\"https://www.newegg.com/p/27N-0074-00002?Description=graphics cards&amp;cm_re=graphics_cards-_-9SIB601GMK3372-_-Product\" title=\"View Details\">Graphics HD7450 2GB GDDR3 64 Bit PCIE 2.0 HDMI-Compatible+VGA+DVI Interface Video Card with Cooling Fan</a><p class=\"item-promo\"><i class=\"item-promo-icon\"></i>Limited time offer, ends 06/22</p><ul class=\"item-features\"><li><strong>Core Clock:</strong> 625 MHz</li><li><strong>DisplayPort:</strong> 1 x DisplayPort</li><li><strong>DVI:</strong> 1 x DVI</li><li><strong>HDMI:</strong> 1 x HDMI</li><li><strong>Model #: </strong>HD7450 2GB</li><li><strong>Item #: </strong>9SIB601GMK3372</li><li><strong>Return Policy: </strong><a href=\"https://www.newegg.com/Seller-Store/Mannajue?initialTab=returnPolicy\" target=\"_blank\" title=\"View Return Policy(new window)\">View Return Policy</a></li></ul></div><div class=\"item-action\"><ul class=\"price\"><li class=\"price-was\"></li><li class=\"price-map\"> </li><li class=\"price-current\"><span class=\"price-current-label\"></span>$<strong>59</strong><sup>.99</sup> <span class=\"price-current-range\"><abbr title=\"to\">–</abbr></span></li><li class=\"price-save\"><span class=\"price-save-endtime\"><strong>Sale Ends in 12 Hours</strong> - </span></li><li class=\"price-ship\">Free Shipping</li></ul><div class=\"item-sellers\"><span class=\"menu-box\"><a class=\"menu-box-trigger\"><div class=\"d2c-section-title\"><img alt=\"Direct from LISM\" src=\"https://c1.neweggimages.com/WebResource/Themes/Nest/icons/D2CIcon@1x.png\"/> <span>Direct from LISM</span></div></a><div class=\"menu-box-menu\"><div class=\"d2c-section\"><div class=\"d2c-section-desc\">This product is sold direct from the manufacturer.</div></div></div></span></div><div class=\"item-sellers top-seller\"><span class=\"menu-box\"><div class=\"menu-box-trigger\"><div class=\"d2c-section-title\"><img alt=\"Top Rated Seller\" src=\"https://c1.neweggimages.com/WebResource/Themes/Nest/icons/star_seller@2x.png\" width=\"16\"/><span> Mannajue Store</span><a class=\"link-more\" href=\"https://www.newegg.com/Seller-Store/Mannajue?cm_sp=seller-store-_-from-plp-product-cell\" target=\"_blank\" title=\"Visit Store\"><span>Visit Store</span></a></div></div><div class=\"menu-box-menu\"><div class=\"d2c-section\"><div class=\"d2c-section-desc\"><img alt=\"Top Rated Seller\" src=\"https://c1.neweggimages.com/WebResource/Themes/Nest/icons/star_seller@2x.png\" width=\"16\"/> <!-- -->Top Rated Seller</div></div></div></span></div><div class=\"item-operate\"><div class=\"item-button-area\"><button class=\"btn btn-primary btn-mini\" title=\"Add Graphics HD7450 2GB GDDR3 64 Bit PCIE 2.0 HDMI-Compatible+VGA+DVI Interface Video Card with Cooling Fan to cart\">Add to cart <i class=\"fas fa-caret-right\"></i></button></div><div class=\"item-compare-box\"><label class=\"form-checkbox\"><input autocomplete=\"off\" type=\"checkbox\"/><span class=\"form-checkbox-title\">Compare</span></label></div></div></div><div class=\"item-stock\" id=\"stock_9SIB601GMK3372\"></div></div></div>\n",
      "Error that occurred: TypeError\n",
      "Error message: 'NoneType' object is not subscriptable\n",
      "Cell where error occurred: <div class=\"item-cell\" id=\"item_cell_9SIB601H0V6456_22_0\"><div class=\"item-container\"><a class=\"item-img\" href=\"https://www.newegg.com/p/1FT-00FX-00022?Description=graphics cards&amp;cm_re=graphics_cards-_-9SIB601H0V6456-_-Product\"><img alt=\"GeForce GT 1030 4GB GDDR4 64bit Graphics Card GTX 1030 HDMI VGA GT1030 Video Card\" src=\"https://c1.neweggimages.com/ProductImageCompressAll300/B601S2202184SR4C.jpg\" title=\"GeForce GT 1030 4GB GDDR4 64bit Graphics Card GTX 1030 HDMI VGA GT1030 Video Card\"/><div class=\"btn btn-large btn-quickview\">Quick View</div><div class=\"item-quick-action-container\"><button class=\"quick-action\"><i class=\"fa fa-heart-outline\"></i></button></div></a><div class=\"item-info\"><div class=\"item-branding\"></div><a class=\"item-title\" href=\"https://www.newegg.com/p/1FT-00FX-00022?Description=graphics cards&amp;cm_re=graphics_cards-_-9SIB601H0V6456-_-Product\" title=\"View Details\">GeForce GT 1030 4GB GDDR4 64bit Graphics Card GTX 1030 HDMI VGA GT1030 Video Card</a><p class=\"item-promo\"><i class=\"item-promo-icon\"></i>Limited time offer, ends 06/22</p><ul class=\"item-features\"><li><strong>Core Clock:</strong> 1050 MHz</li><li><strong>DisplayPort:</strong> 1 X VGA</li><li><strong>HDMI:</strong> 1 x HDMI</li><li><strong>Chipset Manufacturer:</strong> NVIDIA</li><li><strong>Model #: </strong>1030 4GB</li><li><strong>Item #: </strong>9SIB601H0V6456</li><li><strong>Return Policy: </strong><a href=\"https://www.newegg.com/Seller-Store/Mannajue?initialTab=returnPolicy\" target=\"_blank\" title=\"View Return Policy(new window)\">View Return Policy</a></li></ul></div><div class=\"item-action\"><ul class=\"price\"><li class=\"price-was\"></li><li class=\"price-map\"> </li><li class=\"price-current\"><span class=\"price-current-label\"></span>$<strong>159</strong><sup>.99</sup> <span class=\"price-current-range\"><abbr title=\"to\">–</abbr></span></li><li class=\"price-save\"><span class=\"price-save-endtime\"><strong>Sale Ends in 12 Hours</strong> - </span></li><li class=\"price-ship\">Free Shipping</li></ul><div class=\"item-sellers\"><span class=\"menu-box\"><a class=\"menu-box-trigger\"><div class=\"d2c-section-title\"><img alt=\"Direct from LISM\" src=\"https://c1.neweggimages.com/WebResource/Themes/Nest/icons/D2CIcon@1x.png\"/> <span>Direct from LISM</span></div></a><div class=\"menu-box-menu\"><div class=\"d2c-section\"><div class=\"d2c-section-desc\">This product is sold direct from the manufacturer.</div></div></div></span></div><div class=\"item-sellers top-seller\"><span class=\"menu-box\"><div class=\"menu-box-trigger\"><div class=\"d2c-section-title\"><img alt=\"Top Rated Seller\" src=\"https://c1.neweggimages.com/WebResource/Themes/Nest/icons/star_seller@2x.png\" width=\"16\"/><span> Mannajue Store</span><a class=\"link-more\" href=\"https://www.newegg.com/Seller-Store/Mannajue?cm_sp=seller-store-_-from-plp-product-cell\" target=\"_blank\" title=\"Visit Store\"><span>Visit Store</span></a></div></div><div class=\"menu-box-menu\"><div class=\"d2c-section\"><div class=\"d2c-section-desc\"><img alt=\"Top Rated Seller\" src=\"https://c1.neweggimages.com/WebResource/Themes/Nest/icons/star_seller@2x.png\" width=\"16\"/> <!-- -->Top Rated Seller</div></div></div></span></div><div class=\"item-operate\"><div class=\"item-button-area\"><button class=\"btn btn-primary btn-mini\" title=\"Add GeForce GT 1030 4GB GDDR4 64bit Graphics Card GTX 1030 HDMI VGA GT1030 Video Card to cart\">Add to cart <i class=\"fas fa-caret-right\"></i></button></div><div class=\"item-compare-box\"><label class=\"form-checkbox\"><input autocomplete=\"off\" type=\"checkbox\"/><span class=\"form-checkbox-title\">Compare</span></label></div></div></div><div class=\"item-stock\" id=\"stock_9SIB601H0V6456\"></div></div></div>\n",
      "Error that occurred: TypeError\n",
      "Error message: 'NoneType' object is not subscriptable\n",
      "Cell where error occurred: <div class=\"item-cell\" id=\"item_cell_9SIA4UB5JC6130_31_0\"><div class=\"item-container\"><a class=\"item-img\" href=\"https://www.newegg.com/p/1FT-001U-00018?Description=graphics cards&amp;cm_re=graphics_cards-_-9SIA4UB5JC6130-_-Product\"><img alt=\"ETopSell ATI Rage XL 8MB/8 MB PCI 3D VGA Video Graphics Card\" src=\"https://c1.neweggimages.com/ProductImageCompressAll300/A4UB_131369968664466775RMhS2KyKEb.jpg\" title=\"ETopSell ATI Rage XL 8MB/8 MB PCI 3D VGA Video Graphics Card\"/><div class=\"btn btn-large btn-quickview\">Quick View</div><div class=\"item-quick-action-container\"><button class=\"quick-action\"><i class=\"fa fa-heart-outline\"></i></button></div></a><div class=\"item-info\"><div class=\"item-branding\"><a class=\"item-rating\" href=\"https://www.newegg.com/p/1FT-001U-00018?IsFeedbackTab=true#scrollFullInfo\" title=\"Rating + 5\"><i aria-label=\"rated 5 out of 5\" class=\"rating rating-5\"></i><span class=\"item-rating-num\">(2)</span></a></div><a class=\"item-title\" href=\"https://www.newegg.com/p/1FT-001U-00018?Description=graphics cards&amp;cm_re=graphics_cards-_-9SIA4UB5JC6130-_-Product\" title=\"View Details\">ETopSell ATI Rage XL 8MB/8 MB PCI 3D VGA Video Graphics Card</a><ul class=\"item-features\"><li><strong>Chipset Manufacturer:</strong> ATI</li><li><strong>Model #: </strong>12090192567</li><li><strong>Item #: </strong>9SIA4UB5JC6130</li><li><strong>Return Policy: </strong><a href=\"https://www.newegg.com/Seller-Store/ETopSell?initialTab=returnPolicy\" target=\"_blank\" title=\"View Return Policy(new window)\">View Return Policy</a></li></ul></div><div class=\"item-action\"><ul class=\"price\"><li class=\"price-was\"></li><li class=\"price-map\"> </li><li class=\"price-current\"><span class=\"price-current-label\"></span>$<strong>15</strong><sup>.46</sup> <span class=\"price-current-range\"><abbr title=\"to\">–</abbr></span></li><li class=\"price-save\"></li><li class=\"price-ship\">$12.39 Shipping</li></ul><div class=\"item-sellers top-seller\"><span class=\"menu-box\"><div class=\"menu-box-trigger\"><div class=\"d2c-section-title\"><span>ETopSell Store</span><a class=\"link-more\" href=\"https://www.newegg.com/Seller-Store/ETopSell?cm_sp=seller-store-_-from-plp-product-cell\" target=\"_blank\" title=\"Visit Store\"><span>Visit Store</span></a></div></div></span></div><div class=\"item-operate\"><div class=\"item-button-area\"><button class=\"btn btn-primary btn-mini\" title=\"Add ETopSell ATI Rage XL 8MB/8 MB PCI 3D VGA Video Graphics Card to cart\">Add to cart <i class=\"fas fa-caret-right\"></i></button></div><div class=\"item-compare-box\"><label class=\"form-checkbox\"><input autocomplete=\"off\" type=\"checkbox\"/><span class=\"form-checkbox-title\">Compare</span></label></div></div></div><div class=\"item-stock\" id=\"stock_9SIA4UB5JC6130\"></div></div></div>\n"
     ]
    }
   ],
   "source": [
    "\"\"\"Store the product information in csv\"\"\"\n",
    "with open('graphics_cards.csv', mode='w', newline='') as graphics_cards_file:\n",
    "    file_writer = csv.writer(graphics_cards_file)\n",
    "    file_writer.writerow(['Brand', 'Product Name', 'Price'])\n",
    "    for cells in cells_list:\n",
    "        for cell in cells:\n",
    "            if cell.find(\"div\", attrs={\"class\": \"txt-ads-link\"}) == None:\n",
    "                try:\n",
    "                    brand_tag = cell.find_all(\"div\", attrs={\"class\": \"item-branding\"})\n",
    "                    brand_name = brand_tag[0].img[\"title\"]\n",
    "              \n",
    "                    title_tag = cell.find_all(\"a\", attrs={\"class\": \"item-title\"})\n",
    "                    product_name = title_tag[0].text\n",
    "\n",
    "                    price_tag = cell.find_all(\"li\", attrs={\"class\": \"price-current\"})\n",
    "                    price_str = re.findall(r'\\d+,*\\d+.\\d+', price_tag[0].text)\n",
    "                    pricing_info = float(price_str[0].replace(',', ''))\n",
    "\n",
    "                except Exception as error:\n",
    "                    print(f'Error that occurred: {error.__class__.__name__}')\n",
    "                    print(f'Error message: {error}')\n",
    "                    print(f'Cell where error occurred: {cell}')\n",
    "                finally:\n",
    "                    file_writer.writerow([brand_name, product_name, pricing_info])"
   ]
  },
  {
   "cell_type": "code",
   "execution_count": 123,
   "id": "f617bc3a-8036-4ad5-9e02-11dbcfb74efc",
   "metadata": {},
   "outputs": [
    {
     "data": {
      "text/plain": [
       "bs4.element.ResultSet"
      ]
     },
     "execution_count": 123,
     "metadata": {},
     "output_type": "execute_result"
    }
   ],
   "source": [
    "type(cells)"
   ]
  },
  {
   "cell_type": "code",
   "execution_count": 118,
   "id": "2b7b6e3e-1c18-4f82-b33d-552f2e11fa06",
   "metadata": {},
   "outputs": [
    {
     "data": {
      "text/plain": [
       "<div class=\"item-cell\"><div class=\"item-container\"><a class=\"item-img combo-img-0\" href=\"https://www.newegg.com/Product/ComboDealDetails?ItemList=Combo.4503356\"><img alt=\"ASUS TUF Gaming GeForce RTX 3070 V2 OC Edition 8GB GDDR6 PCI Express 4.0 Video Card TUF-RTX3070-O8G-V2-GAMING (LHR) and Domino's $25 Gift Card (Email Delivery)\" class=\"\" src=\"https://c1.neweggimages.com/ProductImageCompressAll300/combo4503356.jpg\" title=\"ASUS TUF Gaming GeForce RTX 3070 V2 OC Edition 8GB GDDR6 PCI Express 4.0 Video Card TUF-RTX3070-O8G-V2-GAMING (LHR) and Domino's $25 Gift Card (Email Delivery)\"/><div class=\"item-quick-action-container\"><button class=\"quick-action\"><i class=\"fa fa-heart-outline\"></i></button></div></a><div class=\"item-info\"><a class=\"item-title\" href=\"https://www.newegg.com/Product/ComboDealDetails?ItemList=Combo.4503356\" title=\"View Details\">ASUS TUF Gaming GeForce RTX 3070 V2 OC Edition 8GB GDDR6 PCI Express 4.0 Video Card TUF-RTX3070-O8G-V2-GAMING (LHR) and Domino's $25 Gift Card (Email Delivery)</a></div><div class=\"item-action\"><ul class=\"price\"><li class=\"price-was\"><span class=\"price-was-data\">$684.99</span></li><li class=\"price-map\"> </li><li class=\"price-current\"><span class=\"price-current-label\"></span>$<strong>659</strong><sup>.99</sup> <span class=\"price-current-range\"><abbr title=\"to\">–</abbr></span></li><li class=\"price-save\"><span class=\"price-save-label\">Combo Savings: </span><span class=\"price-save-dollar\">$25.00</span><span class=\"price-save-percent\"></span></li><li class=\"price-ship\"></li></ul><div class=\"item-operate\"><div class=\"item-button-area\"><button class=\"btn btn-primary btn-mini\" title=\"Add to cart \">Add to cart <i class=\"fas fa-caret-right\"></i></button></div></div></div></div></div>"
      ]
     },
     "execution_count": 118,
     "metadata": {},
     "output_type": "execute_result"
    }
   ],
   "source": [
    "cells[21]"
   ]
  },
  {
   "cell_type": "code",
   "execution_count": 115,
   "id": "efeb71dd-b0b8-48f1-9c77-0821186aff86",
   "metadata": {},
   "outputs": [
    {
     "data": {
      "text/plain": [
       "[]"
      ]
     },
     "execution_count": 115,
     "metadata": {},
     "output_type": "execute_result"
    }
   ],
   "source": [
    "#look at a particular item's branding\n",
    "cells[21].find_all(\"div\", attrs={\"class\": \"item-branding\"})"
   ]
  },
  {
   "cell_type": "code",
   "execution_count": 106,
   "id": "07c2731e-5263-4a32-855b-0ec161759f65",
   "metadata": {},
   "outputs": [
    {
     "data": {
      "text/plain": [
       "<div class=\"item-branding\"><a class=\"item-brand\" href=\"https://www.newegg.com/ASUS/BrandStore/ID-1315\"><img alt=\"ASUS\" src=\"https://c1.neweggimages.com/Brandimage_70x28/Brand1315.gif\" title=\"ASUS\"/></a><a class=\"item-rating\" href=\"https://www.newegg.com/asus-geforce-rtx-3070-ti-tuf-rtx3070ti-o8g-gaming/p/N82E16814126512?IsFeedbackTab=true#scrollFullInfo\" title=\"Rating + 4.6\"><i aria-label=\"rated 4.6 out of 5\" class=\"rating rating-4-5\"></i><span class=\"item-rating-num\">(165)</span></a></div>"
      ]
     },
     "execution_count": 106,
     "metadata": {},
     "output_type": "execute_result"
    }
   ],
   "source": [
    "cells[3].find_all(\"div\", attrs={\"class\": \"item-branding\"})[0]"
   ]
  },
  {
   "cell_type": "code",
   "execution_count": 114,
   "id": "7f1e27c1-6b34-4554-ad37-4fab6a52015b",
   "metadata": {},
   "outputs": [
    {
     "ename": "IndexError",
     "evalue": "list index out of range",
     "output_type": "error",
     "traceback": [
      "\u001b[0;31m---------------------------------------------------------------------------\u001b[0m",
      "\u001b[0;31mIndexError\u001b[0m                                Traceback (most recent call last)",
      "Input \u001b[0;32mIn [114]\u001b[0m, in \u001b[0;36m<cell line: 2>\u001b[0;34m()\u001b[0m\n\u001b[1;32m      1\u001b[0m \u001b[38;5;66;03m#brand name\u001b[39;00m\n\u001b[0;32m----> 2\u001b[0m \u001b[43mcells\u001b[49m\u001b[43m[\u001b[49m\u001b[38;5;241;43m21\u001b[39;49m\u001b[43m]\u001b[49m\u001b[38;5;241;43m.\u001b[39;49m\u001b[43mfind_all\u001b[49m\u001b[43m(\u001b[49m\u001b[38;5;124;43m\"\u001b[39;49m\u001b[38;5;124;43mdiv\u001b[39;49m\u001b[38;5;124;43m\"\u001b[39;49m\u001b[43m,\u001b[49m\u001b[43m \u001b[49m\u001b[43mattrs\u001b[49m\u001b[38;5;241;43m=\u001b[39;49m\u001b[43m{\u001b[49m\u001b[38;5;124;43m\"\u001b[39;49m\u001b[38;5;124;43mclass\u001b[39;49m\u001b[38;5;124;43m\"\u001b[39;49m\u001b[43m:\u001b[49m\u001b[43m \u001b[49m\u001b[38;5;124;43m\"\u001b[39;49m\u001b[38;5;124;43mitem-branding\u001b[39;49m\u001b[38;5;124;43m\"\u001b[39;49m\u001b[43m}\u001b[49m\u001b[43m)\u001b[49m\u001b[43m[\u001b[49m\u001b[38;5;241;43m0\u001b[39;49m\u001b[43m]\u001b[49m\u001b[38;5;241m.\u001b[39mimg[\u001b[38;5;124m'\u001b[39m\u001b[38;5;124mtitle\u001b[39m\u001b[38;5;124m'\u001b[39m]\n",
      "\u001b[0;31mIndexError\u001b[0m: list index out of range"
     ]
    }
   ],
   "source": [
    "#brand name\n",
    "cells[21].find_all(\"div\", attrs={\"class\": \"item-branding\"})[0].img['title']"
   ]
  },
  {
   "cell_type": "code",
   "execution_count": 109,
   "id": "370e5a55-9d57-46ae-9580-68bf9a5937cb",
   "metadata": {},
   "outputs": [
    {
     "data": {
      "text/plain": [
       "'ASUS TUF Gaming GeForce RTX 3070 Ti 8GB GDDR6X PCI Express 4.0 Video Card TUF-RTX3070TI-O8G-GAMING'"
      ]
     },
     "execution_count": 109,
     "metadata": {},
     "output_type": "execute_result"
    }
   ],
   "source": [
    "cells[3].find_all(\"a\", attrs={\"class\": \"item-title\"})[0].text"
   ]
  },
  {
   "cell_type": "code",
   "execution_count": 31,
   "id": "c764d4fa-381c-496d-976d-f4f123e2c582",
   "metadata": {},
   "outputs": [
    {
     "data": {
      "text/plain": [
       "'XFX SPEEDSTER SWFT 210 Radeon RX 6600 8GB GDDR6 PCI Express 4.0 Video Card RX-66XL8LFDQ'"
      ]
     },
     "execution_count": 31,
     "metadata": {},
     "output_type": "execute_result"
    }
   ],
   "source": [
    "#product name\n",
    "cells[0].find_all(\"a\", attrs={\"class\": \"item-title\"})[0].text"
   ]
  },
  {
   "cell_type": "code",
   "execution_count": 34,
   "id": "cba73e6b-e334-420c-9ab8-0913e2a9c86a",
   "metadata": {},
   "outputs": [
    {
     "data": {
      "text/plain": [
       "True"
      ]
     },
     "execution_count": 34,
     "metadata": {},
     "output_type": "execute_result"
    }
   ],
   "source": [
    "cells[0].find_all(\"p\", attrs={\"class\": \"item-promo\"}) == []"
   ]
  },
  {
   "cell_type": "code",
   "execution_count": 49,
   "id": "57b5204d-bbf3-4d61-a9f9-2962a1bb1fd4",
   "metadata": {},
   "outputs": [
    {
     "data": {
      "text/plain": [
       "'$949.00\\xa0–'"
      ]
     },
     "execution_count": 49,
     "metadata": {},
     "output_type": "execute_result"
    }
   ],
   "source": [
    "cells[2].find_all(\"li\", attrs={\"class\": \"price-current\"})[0].text"
   ]
  },
  {
   "cell_type": "code",
   "execution_count": 110,
   "id": "a6b87d84-bbcd-471a-be47-7149415fcfd2",
   "metadata": {},
   "outputs": [
    {
     "data": {
      "text/plain": [
       "'$699.00\\xa0(28 Offers)–'"
      ]
     },
     "execution_count": 110,
     "metadata": {},
     "output_type": "execute_result"
    }
   ],
   "source": [
    "\"\"\"Price Tag\"\"\"\n",
    "cells[3].find_all(\"li\", attrs={\"class\": \"price-current\"})[0].text"
   ]
  },
  {
   "cell_type": "code",
   "execution_count": 89,
   "id": "e2eb639e-3b99-41e0-9a06-d2911d6401a1",
   "metadata": {},
   "outputs": [
    {
     "data": {
      "text/plain": [
       "'$1,049.99\\xa0(5 Offers)–'"
      ]
     },
     "execution_count": 89,
     "metadata": {},
     "output_type": "execute_result"
    }
   ],
   "source": [
    "\"\"\"Price Tag\"\"\"\n",
    "cells[6].find_all(\"li\", attrs={\"class\": \"price-current\"})[0].text"
   ]
  },
  {
   "cell_type": "code",
   "execution_count": 98,
   "id": "db3dd7fd-9f81-4055-b92e-38d4c950206f",
   "metadata": {},
   "outputs": [],
   "source": [
    "test = cells[6].find_all(\"li\", attrs={\"class\": \"price-current\"})[0].text"
   ]
  },
  {
   "cell_type": "code",
   "execution_count": 58,
   "id": "00a822ae-a830-4c15-b09a-608847a62857",
   "metadata": {},
   "outputs": [],
   "source": [
    "import re"
   ]
  },
  {
   "cell_type": "code",
   "execution_count": 99,
   "id": "7c3f9870-295a-40cd-a408-113302449947",
   "metadata": {},
   "outputs": [
    {
     "data": {
      "text/plain": [
       "'$1,049.99\\xa0(5 Offers)–'"
      ]
     },
     "execution_count": 99,
     "metadata": {},
     "output_type": "execute_result"
    }
   ],
   "source": [
    "test"
   ]
  },
  {
   "cell_type": "code",
   "execution_count": 100,
   "id": "6238cbb8-dfa0-439e-9ada-b5fb5933b6a6",
   "metadata": {},
   "outputs": [
    {
     "data": {
      "text/plain": [
       "['1,049.99']"
      ]
     },
     "execution_count": 100,
     "metadata": {},
     "output_type": "execute_result"
    }
   ],
   "source": [
    "re.findall(r'\\d+,*\\d+.\\d+', test)"
   ]
  },
  {
   "cell_type": "code",
   "execution_count": 93,
   "id": "9a80560b-1bfa-485f-98e3-f1e6c0f2bc41",
   "metadata": {},
   "outputs": [
    {
     "data": {
      "text/plain": [
       "'1049.99'"
      ]
     },
     "execution_count": 93,
     "metadata": {},
     "output_type": "execute_result"
    }
   ],
   "source": [
    "re.findall(r'\\d+,\\d+.\\d+', test)[0].replace(',', '')"
   ]
  },
  {
   "cell_type": "code",
   "execution_count": 6,
   "id": "a51f99e5-0546-4baf-a12d-1e54975b8001",
   "metadata": {},
   "outputs": [],
   "source": [
    "\"\"\"Start a csv file to store the information with desired information\"\"\"\n",
    "with open('graphics_cards.csv', mode='w', newline='') as graphics_cards_file:\n",
    "    file_writer = csv.writer(graphics_cards_file)\n",
    "    file_writer.writerow(['Brand', 'Product Name', 'Price', 'Shipping'])"
   ]
  },
  {
   "cell_type": "code",
   "execution_count": 35,
   "id": "0fc10b7e-a527-403e-a491-92a95ec67da1",
   "metadata": {},
   "outputs": [
    {
     "ename": "ValueError",
     "evalue": "I/O operation on closed file.",
     "output_type": "error",
     "traceback": [
      "\u001b[0;31m---------------------------------------------------------------------------\u001b[0m",
      "\u001b[0;31mValueError\u001b[0m                                Traceback (most recent call last)",
      "Input \u001b[0;32mIn [35]\u001b[0m, in \u001b[0;36m<cell line: 1>\u001b[0;34m()\u001b[0m\n\u001b[1;32m     32\u001b[0m     \u001b[38;5;28mprint\u001b[39m(\u001b[38;5;124mf\u001b[39m\u001b[38;5;124m'\u001b[39m\u001b[38;5;124mCell where error occurred: \u001b[39m\u001b[38;5;132;01m{\u001b[39;00mcell\u001b[38;5;132;01m}\u001b[39;00m\u001b[38;5;124m'\u001b[39m)\n\u001b[1;32m     33\u001b[0m \u001b[38;5;28;01mfinally\u001b[39;00m:\n\u001b[0;32m---> 34\u001b[0m     \u001b[43mfile_writer\u001b[49m\u001b[38;5;241;43m.\u001b[39;49m\u001b[43mwriterow\u001b[49m\u001b[43m(\u001b[49m\u001b[43m[\u001b[49m\u001b[43mbrand_name\u001b[49m\u001b[43m,\u001b[49m\u001b[43m \u001b[49m\u001b[43mproduct_name\u001b[49m\u001b[43m,\u001b[49m\u001b[43m \u001b[49m\u001b[43mpricing_info\u001b[49m\u001b[43m,\u001b[49m\u001b[43m \u001b[49m\u001b[43mshipping_info\u001b[49m\u001b[43m]\u001b[49m\u001b[43m)\u001b[49m\n",
      "\u001b[0;31mValueError\u001b[0m: I/O operation on closed file."
     ]
    }
   ],
   "source": [
    "for cell in cells:\n",
    "        if cell.find(\"div\", attrs={\"class\": \"txt-ads-link\"}) == None:\n",
    "            try:\n",
    "                brand_tag = cell.find_all(\"div\", attrs={\"class\": \"item-branding\"})\n",
    "                brand_name = brand_tag[0].img[\"title\"]\n",
    "              \n",
    "                title_tag = cell.find_all(\"a\", attrs={\"class\": \"item-title\"})\n",
    "                product_name = title_tag[0].text\n",
    "\n",
    "                if cell.find_all(\"p\", attrs={\"class\": \"item-promo\"}) != []:\n",
    "                    price_tag = cell.find_all(\"p\", attrs={\"class\": \"item-promo\"})\n",
    "                    pricing_info = price_tag[0].text\n",
    "\n",
    "                    if cell.find_all(\"a\", attrs={\"class\": \"shipped-by-newegg\"}) != []:\n",
    "                        shipping_tag = cell.find_all(\"a\", attrs={\"class\": \"shipped-by-newegg\"})\n",
    "                        shipping_info = shipping_tag[0].text\n",
    "                    else:\n",
    "                        shipping_tag = cell.find_all(\"li\", attrs={\"class\": \"price-ship\"})\n",
    "                        shipping_info = shipping_tag[0].text\n",
    "                else:\n",
    "                    price_tag = cell.find_all(\"li\", attrs={\"class\": \"price-current\"})\n",
    "                    pricing_info = re.findall(r'\\d+.\\d+', price_tag.text) \n",
    "\n",
    "                    shipping_tag = cell.find_all(\"li\", attrs={\"class\": \"price-ship\"})\n",
    "                    shipping_info = shipping_tag[0].text\n",
    "            except Exception as error:\n",
    "                print(f'Error that occurred: {error.__class__.__name__}')\n",
    "                print(f'Error message: {error}')\n",
    "                print(f'Cell where error occurred: {cell}')\n",
    "            finally:\n",
    "                file_writer.writerow([brand_name, product_name, pricing_info, shipping_info])\n"
   ]
  },
  {
   "cell_type": "code",
   "execution_count": 113,
   "id": "db1dacaf-bbdb-43c1-bed9-2f3d76ac82b8",
   "metadata": {},
   "outputs": [
    {
     "data": {
      "text/plain": [
       "'$659.99\\xa0–'"
      ]
     },
     "execution_count": 113,
     "metadata": {},
     "output_type": "execute_result"
    }
   ],
   "source": [
    "\"\"\"Price Tag\"\"\"\n",
    "cells[21].find_all(\"li\", attrs={\"class\": \"price-current\"})[0].text"
   ]
  },
  {
   "cell_type": "code",
   "execution_count": 112,
   "id": "f9fb9d8a-c005-43f7-9e49-febd3dea7627",
   "metadata": {},
   "outputs": [
    {
     "name": "stdout",
     "output_type": "stream",
     "text": [
      "Error that occurred: IndexError\n",
      "Error message: list index out of range\n",
      "Cell where error occurred: <div class=\"item-cell\"><div class=\"item-container\"><a class=\"item-img combo-img-0\" href=\"https://www.newegg.com/Product/ComboDealDetails?ItemList=Combo.4503356\"><img alt=\"ASUS TUF Gaming GeForce RTX 3070 V2 OC Edition 8GB GDDR6 PCI Express 4.0 Video Card TUF-RTX3070-O8G-V2-GAMING (LHR) and Domino's $25 Gift Card (Email Delivery)\" class=\"\" src=\"https://c1.neweggimages.com/ProductImageCompressAll300/combo4503356.jpg\" title=\"ASUS TUF Gaming GeForce RTX 3070 V2 OC Edition 8GB GDDR6 PCI Express 4.0 Video Card TUF-RTX3070-O8G-V2-GAMING (LHR) and Domino's $25 Gift Card (Email Delivery)\"/><div class=\"item-quick-action-container\"><button class=\"quick-action\"><i class=\"fa fa-heart-outline\"></i></button></div></a><div class=\"item-info\"><a class=\"item-title\" href=\"https://www.newegg.com/Product/ComboDealDetails?ItemList=Combo.4503356\" title=\"View Details\">ASUS TUF Gaming GeForce RTX 3070 V2 OC Edition 8GB GDDR6 PCI Express 4.0 Video Card TUF-RTX3070-O8G-V2-GAMING (LHR) and Domino's $25 Gift Card (Email Delivery)</a></div><div class=\"item-action\"><ul class=\"price\"><li class=\"price-was\"><span class=\"price-was-data\">$684.99</span></li><li class=\"price-map\"> </li><li class=\"price-current\"><span class=\"price-current-label\"></span>$<strong>659</strong><sup>.99</sup> <span class=\"price-current-range\"><abbr title=\"to\">–</abbr></span></li><li class=\"price-save\"><span class=\"price-save-label\">Combo Savings: </span><span class=\"price-save-dollar\">$25.00</span><span class=\"price-save-percent\"></span></li><li class=\"price-ship\"></li></ul><div class=\"item-operate\"><div class=\"item-button-area\"><button class=\"btn btn-primary btn-mini\" title=\"Add to cart \">Add to cart <i class=\"fas fa-caret-right\"></i></button></div></div></div></div></div>\n",
      "Error that occurred: IndexError\n",
      "Error message: list index out of range\n",
      "Cell where error occurred: <div class=\"item-cell\"><div class=\"item-container\"><a class=\"item-img combo-img-0\" href=\"https://www.newegg.com/Product/ComboDealDetails?ItemList=Combo.4500752\"><img alt=\"ASRock Radeon RX 6600 Video Card RX6600 CLD 8G and CORSAIR RM850 CP-9020235-NA 850 W Power Supply\" class=\"\" src=\"https://c1.neweggimages.com/ProductImageCompressAll300/combo4500752.jpg\" title=\"ASRock Radeon RX 6600 Video Card RX6600 CLD 8G and CORSAIR RM850 CP-9020235-NA 850 W Power Supply\"/><div class=\"item-quick-action-container\"><button class=\"quick-action\"><i class=\"fa fa-heart-outline\"></i></button></div></a><div class=\"item-info\"><a class=\"item-title\" href=\"https://www.newegg.com/Product/ComboDealDetails?ItemList=Combo.4500752\" title=\"View Details\">ASRock Radeon RX 6600 Video Card RX6600 CLD 8G and CORSAIR RM850 CP-9020235-NA 850 W Power Supply</a></div><div class=\"item-action\"><ul class=\"price\"><li class=\"price-was\"><span class=\"price-was-data\">$414.98</span></li><li class=\"price-map\"> </li><li class=\"price-current\"><span class=\"price-current-label\"></span>$<strong>394</strong><sup>.98</sup> <span class=\"price-current-range\"><abbr title=\"to\">–</abbr></span></li><li class=\"price-save\"><span class=\"price-save-label\">Combo Savings: </span><span class=\"price-save-dollar\">$20.00</span><span class=\"price-save-percent\"></span></li><li class=\"price-ship\"></li></ul><div class=\"item-operate\"><div class=\"item-button-area\"><button class=\"btn btn-primary btn-mini\" title=\"Add to cart \">Add to cart <i class=\"fas fa-caret-right\"></i></button></div></div></div></div></div>\n",
      "Error that occurred: IndexError\n",
      "Error message: list index out of range\n",
      "Cell where error occurred: <div class=\"item-cell\"><div class=\"item-container\"><a class=\"item-img combo-img-0\" href=\"https://www.newegg.com/Product/ComboDealDetails?ItemList=Combo.4500770\"><img alt=\"ASRock Radeon RX 6700 XT Challenger D Gaming Graphic Card 12GB GDDR6 VRAM AMD RDNA2 (RX6700XT CLD 12G) and CORSAIR RM850 CP-9020235-NA 850 W Power Supply\" class=\"\" src=\"https://c1.neweggimages.com/ProductImageCompressAll300/combo4500770.jpg\" title=\"ASRock Radeon RX 6700 XT Challenger D Gaming Graphic Card 12GB GDDR6 VRAM AMD RDNA2 (RX6700XT CLD 12G) and CORSAIR RM850 CP-9020235-NA 850 W Power Supply\"/><div class=\"item-quick-action-container\"><button class=\"quick-action\"><i class=\"fa fa-heart-outline\"></i></button></div></a><div class=\"item-info\"><a class=\"item-title\" href=\"https://www.newegg.com/Product/ComboDealDetails?ItemList=Combo.4500770\" title=\"View Details\">ASRock Radeon RX 6700 XT Challenger D Gaming Graphic Card 12GB GDDR6 VRAM AMD RDNA2 (RX6700XT CLD 12G) and CORSAIR RM850 CP-9020235-NA 850 W Power Supply</a></div><div class=\"item-action\"><ul class=\"price\"><li class=\"price-was\"><span class=\"price-was-data\">$623.98</span></li><li class=\"price-map\"> </li><li class=\"price-current\"><span class=\"price-current-label\"></span>$<strong>603</strong><sup>.98</sup> <span class=\"price-current-range\"><abbr title=\"to\">–</abbr></span></li><li class=\"price-save\"><span class=\"price-save-label\">Combo Savings: </span><span class=\"price-save-dollar\">$20.00</span><span class=\"price-save-percent\"></span></li><li class=\"price-ship\"></li></ul><div class=\"item-operate\"><div class=\"item-button-area\"><button class=\"btn btn-primary btn-mini\" title=\"Add to cart \">Add to cart <i class=\"fas fa-caret-right\"></i></button></div></div></div></div></div>\n"
     ]
    }
   ],
   "source": [
    "with open('graphics_cards.csv', mode='w', newline='') as graphics_cards_file:\n",
    "    file_writer = csv.writer(graphics_cards_file)\n",
    "    file_writer.writerow(['Brand', 'Product Name', 'Price'])\n",
    "    for cell in cells:\n",
    "        if cell.find(\"div\", attrs={\"class\": \"txt-ads-link\"}) == None:\n",
    "            try:\n",
    "                brand_tag = cell.find_all(\"div\", attrs={\"class\": \"item-branding\"})\n",
    "                brand_name = brand_tag[0].img[\"title\"]\n",
    "              \n",
    "                title_tag = cell.find_all(\"a\", attrs={\"class\": \"item-title\"})\n",
    "                product_name = title_tag[0].text\n",
    "\n",
    "                price_tag = cell.find_all(\"li\", attrs={\"class\": \"price-current\"})\n",
    "                price_str = re.findall(r'\\d+,*\\d+.\\d+', price_tag[0].text)\n",
    "                pricing_info = float(price_str[0].replace(',', ''))\n",
    "\n",
    "            except Exception as error:\n",
    "                print(f'Error that occurred: {error.__class__.__name__}')\n",
    "                print(f'Error message: {error}')\n",
    "                print(f'Cell where error occurred: {cell}')\n",
    "            finally:\n",
    "                file_writer.writerow([brand_name, product_name, pricing_info])"
   ]
  },
  {
   "cell_type": "code",
   "execution_count": null,
   "id": "e68f9ef7-dba3-432f-b5d4-34525f30a087",
   "metadata": {},
   "outputs": [],
   "source": []
  }
 ],
 "metadata": {
  "kernelspec": {
   "display_name": "Python 3 (ipykernel)",
   "language": "python",
   "name": "python3"
  },
  "language_info": {
   "codemirror_mode": {
    "name": "ipython",
    "version": 3
   },
   "file_extension": ".py",
   "mimetype": "text/x-python",
   "name": "python",
   "nbconvert_exporter": "python",
   "pygments_lexer": "ipython3",
   "version": "3.10.4"
  }
 },
 "nbformat": 4,
 "nbformat_minor": 5
}
